{
 "cells": [
  {
   "cell_type": "code",
   "execution_count": 1,
   "metadata": {},
   "outputs": [],
   "source": [
    "import hashlib\n",
    "import json"
   ]
  },
  {
   "cell_type": "code",
   "execution_count": 2,
   "metadata": {},
   "outputs": [],
   "source": [
    "def hash_node(node):\n",
    "    \"\"\"Hashes a decision tree node (internal or leaf).\"\"\"\n",
    "\n",
    "    # Convert node to JSON string for consistent hashing, handling different node types\n",
    "    if isinstance(node, dict):  # Internal node\n",
    "        node_str = json.dumps(node, sort_keys=True) # Sort keys for consistent hashing\n",
    "    elif isinstance(node, (int, float, str, bool)): # Leaf node (value)\n",
    "        node_str = str(node)\n",
    "    else: # Handle other leaf node types if needed\n",
    "        node_str = str(node)  # Or raise an exception if not supported\n",
    "\n",
    "    return hashlib.sha256(node_str.encode()).hexdigest()"
   ]
  },
  {
   "cell_type": "code",
   "execution_count": 3,
   "metadata": {},
   "outputs": [],
   "source": [
    "def build_merkle_tree(tree):\n",
    "    \"\"\"Builds a Merkle tree from a decision tree.\n",
    "\n",
    "    Args:\n",
    "        tree: A dictionary representing the decision tree.  The structure should be\n",
    "            such that each node is a dictionary. For internal nodes, there should be\n",
    "            keys like 'feature', 'threshold', 'left', 'right'. Leaf nodes can simply\n",
    "            be the predicted value (e.g., a class label).\n",
    "\n",
    "    Returns:\n",
    "        The root hash of the Merkle tree, or None if the tree is empty.\n",
    "    \"\"\"\n",
    "\n",
    "    if not tree:  # Handle empty tree\n",
    "        return None\n",
    "\n",
    "    def _build_merkle_tree_recursive(node):\n",
    "        if isinstance(node, (int, float, str, bool)):  # Leaf node\n",
    "            return hash_node(node)\n",
    "\n",
    "        elif isinstance(node, dict): # Internal node\n",
    "            left_hash = _build_merkle_tree_recursive(node.get('left'))\n",
    "            right_hash = _build_merkle_tree_recursive(node.get('right'))\n",
    "\n",
    "            if left_hash is None and right_hash is None: # Handle case of no children\n",
    "                return hash_node(node) # Hash the node itself\n",
    "\n",
    "            combined = (left_hash or \"\") + (right_hash or \"\") # Handle missing children\n",
    "            return hash_node(combined)\n",
    "        else:\n",
    "            raise ValueError(\"Unsupported node type in tree\")\n",
    "\n",
    "    return _build_merkle_tree_recursive(tree)"
   ]
  },
  {
   "cell_type": "code",
   "execution_count": 4,
   "metadata": {},
   "outputs": [
    {
     "name": "stdout",
     "output_type": "stream",
     "text": [
      "Merkle Root (Empty): None\n"
     ]
    }
   ],
   "source": [
    "empty_tree = {}\n",
    "merkle_root_empty = build_merkle_tree(empty_tree)\n",
    "print(\"Merkle Root (Empty):\", merkle_root_empty)"
   ]
  },
  {
   "cell_type": "code",
   "execution_count": 5,
   "metadata": {},
   "outputs": [
    {
     "name": "stdout",
     "output_type": "stream",
     "text": [
      "Merkle Root (Leaf): ef2d127de37b942baad06145e54b0c619a1f22327b2ebbcfbec78f5564afe39d\n"
     ]
    }
   ],
   "source": [
    "# Example with a single leaf node\n",
    "leaf_node = 5\n",
    "merkle_root_leaf = build_merkle_tree(leaf_node)  # Should raise error, not a dict\n",
    "print(\"Merkle Root (Leaf):\", merkle_root_leaf)"
   ]
  },
  {
   "cell_type": "code",
   "execution_count": 6,
   "metadata": {},
   "outputs": [
    {
     "name": "stdout",
     "output_type": "stream",
     "text": [
      "Merkle Root: fa13bb36c022a6943f37c638126a2c88fc8d008eb5a9fe8fcde17026807feae4\n"
     ]
    }
   ],
   "source": [
    "# Example with a simpler tree\n",
    "simpler_tree = {\n",
    "    'feature': 'X1',\n",
    "    'threshold': 0.5,\n",
    "    'left': 0,\n",
    "    'right': 1\n",
    "}\n",
    "\n",
    "merkle_root_simple = build_merkle_tree(simpler_tree)\n",
    "print(\"Merkle Root:\", merkle_root_simple)"
   ]
  },
  {
   "cell_type": "code",
   "execution_count": 7,
   "metadata": {},
   "outputs": [
    {
     "name": "stdout",
     "output_type": "stream",
     "text": [
      "Merkle Root: 0de9ab1bd76d869a0b268033cf47e97fd46aa22e20e5d1f4e6d253714f8e0b05\n"
     ]
    }
   ],
   "source": [
    "example_tree = {\n",
    "    'feature': 'X1',\n",
    "    'threshold': 0.5,\n",
    "    'left': {\n",
    "        'feature': 'X2',\n",
    "        'threshold': 0.3,\n",
    "        'left': 0,  # Leaf node (class 0)\n",
    "        'right': 1   # Leaf node (class 1)\n",
    "    },\n",
    "    'right': {\n",
    "        'feature': 'X3',\n",
    "        'threshold': 0.7,\n",
    "        'left': 1,  # Leaf node (class 1)\n",
    "        'right': 0   # Leaf node (class 0)\n",
    "    }\n",
    "}\n",
    "\n",
    "merkle_root = build_merkle_tree(example_tree)\n",
    "print(\"Merkle Root:\", merkle_root)"
   ]
  },
  {
   "cell_type": "code",
   "execution_count": null,
   "metadata": {},
   "outputs": [],
   "source": []
  }
 ],
 "metadata": {
  "kernelspec": {
   "display_name": "Python 3",
   "language": "python",
   "name": "python3"
  },
  "language_info": {
   "codemirror_mode": {
    "name": "ipython",
    "version": 3
   },
   "file_extension": ".py",
   "mimetype": "text/x-python",
   "name": "python",
   "nbconvert_exporter": "python",
   "pygments_lexer": "ipython3",
   "version": "3.11.9"
  }
 },
 "nbformat": 4,
 "nbformat_minor": 2
}
