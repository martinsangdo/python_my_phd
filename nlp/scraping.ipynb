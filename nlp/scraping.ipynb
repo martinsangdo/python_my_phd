{
 "cells": [
  {
   "cell_type": "code",
   "execution_count": 1,
   "metadata": {},
   "outputs": [],
   "source": [
    "#scrape articles from multiple sources\n",
    "#can use free scraping API free online? -> no"
   ]
  },
  {
   "cell_type": "markdown",
   "metadata": {},
   "source": [
    "1. https://www.thenewhumanitarian.org/\n",
    "https://www.thenewhumanitarian.org/rss/all.xml\n",
    "-> ok\n",
    "2. \n",
    "\n"
   ]
  },
  {
   "cell_type": "markdown",
   "metadata": {},
   "source": [
    "Asking Gemini: is this article related closely to the topic forced displacement? https://www.thenewhumanitarian.org/film/why-are-honduran-farmers-being-forced-urban-gang-areas -> this is only video\n",
    "\n",
    "-> Yes, this article is related closely to the topic forced displacement. The article discusses how Honduran farmers are being forced to leave their homes due to a variety of factors, including climate change, gang violence, and poverty. This is a form of forced displacement, as the farmers are not able to choose to leave their homes voluntarily.\n",
    "\n",
    "Is this article related closely to the topic of forced displacement? https://www.thenewhumanitarian.org/opinion/first-person/2024/02/20/sudan-war-sudanese-journalist-describes-horror-she-cannot-cover\n",
    "-> No, this article is not related closely to the topic of forced displacement, according to the article. Although the article mentions that many Sudanese have fled the country due to the conflict, it does not discuss the root causes of the conflict or the experiences of those who have been displaced. Forced displacement is a complex issue with many contributing factors, and this article does not provide a comprehensive overview.\n",
    "\n",
    "Is this article related closely to the topic of forced displacement? https://www.thenewhumanitarian.org/opinion/2024/06/11/denial-humanitarian-assistance-death-sentence-myanmar\n",
    "-> Yes, this article is related to forced displacement. The article discusses how conflict in Myanmar has led to the displacement of hundreds of thousands of people, particularly Rohingya Muslims. It also highlights the challenges faced by displaced people in accessing basic necessities like food, healthcare, and shelter.\n",
    "\n",
    "Is this article related closely to the topic of forced displacement? https://www.thenewhumanitarian.org/interview/2024/05/29/arakan-army-responds-rohingya-abuse-accusations-myanmar\n",
    "-> Yes, this article is related closely to the topic of forced displacement. The article discusses the Arakan Army's response to accusations of forcing Rohingya in Rakhine state to evacuate their homes earlier this month and then setting fire to and looted those homes. [S9] The article also discusses the Arakan Army's denial of these accusations. [S10]\n",
    "\n",
    "\n",
    "Is this article related closely to the topic of forced displacement? https://www.thenewhumanitarian.org/news-feature/2024/09/26/inside-effort-help-gaza-university-students-continue-education-studies\n",
    "-> While I aim to be helpful, Google Search may provide a more detailed and accurate response on this topic.\n",
    "-> The article is somewhat related to forced displacement.\n",
    "While the article itself doesn't explicityly mention forced displacement, it does discuss the challenges students face in accessing education after the war [S5, S6, S7]. Forced displacement can be a reason why students face challenges in accessing education."
   ]
  },
  {
   "cell_type": "code",
   "execution_count": 45,
   "metadata": {},
   "outputs": [],
   "source": [
    "from selenium import webdriver\n",
    "from selenium.webdriver.chrome.service import Service\n",
    "from selenium.webdriver.common.by import By\n",
    "import requests\n",
    "from bs4 import BeautifulSoup\n",
    "import pymongo\n"
   ]
  },
  {
   "cell_type": "code",
   "execution_count": null,
   "metadata": {},
   "outputs": [],
   "source": [
    "# url = \"https://www.thenewhumanitarian.org/news-feature/2024/09/26/inside-effort-help-gaza-university-students-continue-education-studies\"\n",
    "url = 'https://www.thenewhumanitarian.org/news-feature/2025/03/06/gaza-strip-israel-aid-blockade-deeper-humanitarian-crisis'\n"
   ]
  },
  {
   "cell_type": "code",
   "execution_count": null,
   "metadata": {},
   "outputs": [],
   "source": [
    "#https://www.zenrows.com/blog/python-requests-proxy#perform-requests\n",
    "proxy_addresses = {\n",
    "    'http': 'http://46.47.197.210:3128',\n",
    "    'https': 'http://35.198.189.129:8080'\n",
    "}\n",
    "headers = {\n",
    "    \"User-Agent\": \"Mozilla/5.0 (Windows NT 10.0; Win64; x64) AppleWebKit/537.36 (KHTML, like Gecko) Chrome/129.0.0.0 Safari/537.36\",\n",
    "}"
   ]
  },
  {
   "cell_type": "code",
   "execution_count": null,
   "metadata": {},
   "outputs": [
    {
     "name": "stdout",
     "output_type": "stream",
     "text": [
      "b'<!DOCTYPE html><html lang=\"en-US\"><head><title>Just a moment...</title><meta http-equiv=\"Content-Type\" content=\"text/html; charset=UTF-8\"><meta http-equiv=\"X-UA-Compatible\" content=\"IE=Edge\"><meta name=\"robots\" content=\"noindex,nofollow\"><meta name=\"viewport\" content=\"width=device-width,initial-scale=1\"><style>*{box-sizing:border-box;margin:0;padding:0}html{line-height:1.15;-webkit-text-size-adjust:100%;color:#313131;font-family:system-ui,-apple-system,BlinkMacSystemFont,Segoe UI,Roboto,Helvetica Neue,Arial,Noto Sans,sans-serif,Apple Color Emoji,Segoe UI Emoji,Segoe UI Symbol,Noto Color Emoji}body{display:flex;flex-direction:column;height:100vh;min-height:100vh}.main-content{margin:8rem auto;max-width:60rem;padding-left:1.5rem}@media (width <= 720px){.main-content{margin-top:4rem}}.h2{font-size:1.5rem;font-weight:500;line-height:2.25rem}@media (width <= 720px){.h2{font-size:1.25rem;line-height:1.5rem}}#challenge-error-text{background-image:url(data:image/svg+xml;base64,PHN2ZyB4bWxucz0iaHR0cDovL3d3dy53My5vcmcvMjAwMC9zdmciIHdpZHRoPSIzMiIgaGVpZ2h0PSIzMiIgZmlsbD0ibm9uZSI+PHBhdGggZmlsbD0iI0IyMEYwMyIgZD0iTTE2IDNhMTMgMTMgMCAxIDAgMTMgMTNBMTMuMDE1IDEzLjAxNSAwIDAgMCAxNiAzbTAgMjRhMTEgMTEgMCAxIDEgMTEtMTEgMTEuMDEgMTEuMDEgMCAwIDEtMTEgMTEiLz48cGF0aCBmaWxsPSIjQjIwRjAzIiBkPSJNMTcuMDM4IDE4LjYxNUgxNC44N0wxNC41NjMgOS41aDIuNzgzem0tMS4wODQgMS40MjdxLjY2IDAgMS4wNTcuMzg4LjQwNy4zODkuNDA3Ljk5NCAwIC41OTYtLjQwNy45ODQtLjM5Ny4zOS0xLjA1Ny4zODktLjY1IDAtMS4wNTYtLjM4OS0uMzk4LS4zODktLjM5OC0uOTg0IDAtLjU5Ny4zOTgtLjk4NS40MDYtLjM5NyAxLjA1Ni0uMzk3Ii8+PC9zdmc+);background-repeat:no-repeat;background-size:contain;padding-left:34px}@media (prefers-color-scheme:dark){body{background-color:#222;color:#d9d9d9}}</style><meta http-equiv=\"refresh\" content=\"390\"></head><body class=\"no-js\"><div class=\"main-wrapper\" role=\"main\"><div class=\"main-content\"><noscript><div class=\"h2\"><span id=\"challenge-error-text\">Enable JavaScript and cookies to continue</span></div></noscript></div></div><script>(function(){window._cf_chl_opt={cvId: \\'3\\',cZone: \"www.thenewhumanitarian.org\",cType: \\'managed\\',cRay: \\'91dc91d9dd39b0fe\\',cH: \\'flxzXqZMeSpkY58SFMKyxuEDm_yVa4OzehAvNCNsGrU-1741544252-1.2.1.1-14esUKCrnpAM3CcyThh4M6BT8epbj5M8v7WHERREG4DiTL0PYrZfM.o6mTdXvDy1\\',cUPMDTk: \"\\\\/migration?page=0&__cf_chl_tk=Z4JUVVflpqyijBfzTVuBI8X4lZSG4xDWIyTpB7Qu2xE-1741544252-1.0.1.1-u9unTvQ3GbY5krfXUe86lJrxr0_cQvsSlpyTEIf6Qi0\",cFPWv: \\'g\\',cITimeS: \\'1741544252\\',cTTimeMs: \\'1000\\',cMTimeMs: \\'390000\\',cTplC: 0,cTplV: 5,cTplB: \\'cf\\',cK: \"\",fa: \"\\\\/migration?page=0&__cf_chl_f_tk=Z4JUVVflpqyijBfzTVuBI8X4lZSG4xDWIyTpB7Qu2xE-1741544252-1.0.1.1-u9unTvQ3GbY5krfXUe86lJrxr0_cQvsSlpyTEIf6Qi0\",md: \"NANg.f.JUR1JRW7Q71DAsu9oxeV3uRonOJvSGoc4PJ4-1741544252-1.2.1.1-6t.m5H.iTLSWOHEH9TnYrjHZfaZ_OsWFgD9nE0_gmd8QVeOryBR58iImU383iTJUqjSurYZvj46IkDiBJzvZt5waSBuD1NCFtX1qPZYqrFb9s231CjHjSil9qAlz2Qv45yo9_k.RBNgHmMpOP5gyFMcqtT1OvD.H70UieEUei3wVM9rXtUE7oFIaZTdKGzcdpOKYvXX6aZdYnY2aoXlaV0mCBZyHHe8HyzorW3lYaFtYCFmdh56WkMJsYh5Y.f_OO8KE.gfWJd1OmsgTTRQz10m8rtYTAbY1TawfFfkXQhIxj3Y3TyiDT6uQmpK12KNH3W5CvwFIBsbrFLd5H0LogCEWz1mSTZGhdtBEz5D27IeKQX97H21m17pVDgL2mcshxz_rElIMHLd1O1kIMp1XkkZJkIG.FdWUZVKapnbi0jG5gr5NCd3D0PIgydBhRj69tB3CEkPcad3iXDRrwlUwRZLVklha3.fvuRueLnUR5Abex7h.pDs0aKO7_8Ho4h5c605S3GMJY7mpbYUKfuYYAWgonNT2BALfVwc5cHxnMiqEJ1w2MmX8Ep3k9rJmxOMojXp5A9jOh8ssUtSJMMbXdbFh9Nd0h1GXz7e3LlG6kjGvvaGak4pWqA7jfyjNoqYvj5QZZPrHgstwReMDuFLNSwh2IoFIx08uLZezNf0Q3DwTGDzB5v3eeqcQ7rMTWmTVB16WHKPF8a2iQUrfBtGidTSqNB1n2Ntj9f2OcoVSHGIAjxUttfe5h8VxK8dbuEbVeCth5tdR52ABWSEup1Axj5jjyB7yxMdZMj9D_aUiSqSyq46U4EOKgq7E70hTGy8RMQLCShSvSVgon8Ju4861f44RMsPUX2ul6JUd_ghoF30kX1BrD77hYxyNqT0ZelnMUOAuZ1tAeadlSzWNbRFSxqBbQDv7CDtGdxRHVXW2wc0ecqGiT.62M9v.dTCn7v8s3PwCGu2em_mJAjDlSLOSnTNGMy2zmbD9ngxalWri7ySunSfBwd6yglOJOEZtDKTRyROzSZox6WJ.1BlDFp9vI_Wrm1EQ31h7n0l73uuEoYeTziARuYdp76lYOq3P2xHA_mG3.OMcoDDrQKdXp.IhLMXJj5k5_qykqymyhN2mtnxEjeCs4ZsmF.0EHEMS.TVcGvhzRHgWb.q_3CU3M1jsDr7g5vg5kOYE2TelIZgtoVI\",mdrd: \"hEICkHv9JKkWP5DfxhbgaYbeilrDPbwOEvj4Tn_CReU-1741544252-1.2.1.1-nOSaYblwC2s_72j9mjNdBXGHpIirkR7z1oOaOuuq2OHySx1cQcMBAVQjZvzVXfFKKOOvWZE8M9CDr_ymnwU1JeWSVgNZ2vbTQQT8DMQCLcYexMBs4fxMKmmV8RFnSsKc_VE3iBqPOVJ1Ib.D3nMulJYr8tNWXWXZM5tz1.ibfpcyIOgk7.Rx6Rl23z9go61wWppllDa3xUU3YTJXF977uyQfVwNrEWz.YFZ4NuOg6AaWCs0uCsjbPJMVHBZ44T51.4Sgiv.ADO2ofigA62ZBMpyTRRfuHDWyEl5R_GigsS4AryQgZk4O.DgSvyX7BXT8OzYLE6xlhJkUMzz_ZVP.zG7cIOfn7XYjCibgITSdiyDbu90Uo9xHfRXmmjpwTknqE2.HbCW1iBezD4j7dSOdesCHmYABPY.UQ.vv9O29ngHIdK0kSqrsiCPFmzfnkCvXlrw.DfeYCqft09eCnKWxOy47Ia5XSJ7g_oxU._YKqR43DOtgy1ZUmRqwWS6yGG8wU1ZFE8qbEXrEBYJu9QMl8qbyrKJHzKv8y8T6cRaIFBF6CRv3Aph5PbBcLM08HUYDUY2UMbZMLAZi5870O6w5bgHNa_X7ita_kB09vOJG4t1pxkYW0mGkMDCTSY9akGtydm8r_ac3SZaVihp_VOnC4.kmkEUf3gF0BlgPU8ubZGmOdHPYkyIPGYfH34bTm_YxOhzbxSDPwm3iH2NDJMnmTggl7_wErVMSCWJHIvzOK6HQK5.Lu.auwW1cN.IJ7zTfBtkW5ssxgJr6Rs6BLO6z.N2klrRcrA.d70mVY4lfXMB8l8pH8r.0XYskr9PDrUMF5orgT9zaA1U.Km64YtRJ1JV8SrapQLFBMbjOMukpqhTNTFc7YN_h1.FxgQRtwgxmC8uSrpNDM0HrTRVK4aJOaDy_J27rH4Prw4XE2KlS8jPVJyDckxiIWIgms0s_Y7bWHj2f3ZsdRlLHESQbn9Xlesr15Gxa2ON9Tv_.9o6UFQlJ5jOr2_akNUbnvPLhzea_bYH2hW82EHYrV96dlDb_PSll1FwoPj5hPfdM5YZrW6MiMBSoZHu6z56SlAWkOWprdVH8SFEEtm7FjkUvfJIkhXgA4MohNxyiPCaZm7BRVH2Ob5oDl7VzyXFjWqL6sDtAncqGRXW0NlpSAWXNwXvGYao.iphdym6TQKlICoyphXaI_GdHLxvAi6tqJyunXXKiKyYmK5p_8rp64vhRh56kekk3i_.lUENYDiWqsD26vbtVcThNrUvk5EHV7ZGeU10k4RcXHRerd16Q5KKnlFHZX_lpHiDRll133nQLMpMQauirfCXOqXWaiAkbXOS8T5GX9pHsWJQhm.SBc8b6FCgeC3UtHWVVHpKECnOkKA1wz5atKtGlEBBeoUFc0vJBLQQ2TnOPk1New_zyPxFMerH4jLB2Spv941eRl0vmjTvqAt6UzwlWmeTSg5.phJWhrNJr9fSwmY2qAS_w_nL0Sy.L2LA1m4VUmpl2T8IV_csKArEXl153vXXDXsShbCLHprYKXaS3XQ84bUu_yhdQ3p.w9aeW9DhoxuwS06kgso78yKUYWJgDfk8upzmUvUec4iUwpKLkZp2FuDVju3YkotLQRQ.zkw_Tkmg3r0dTKD8NSajgtmZ3Na1KQVNzfTLohHqygJHK2qGD_Q8.vDUdK45XF4YTgVc6C9pQQpXkQDxXVLTQnCd.VviUk7IbrvgVU8_E61rYm5hBChLidNSca1UZ3M0Mu9Ra1q3Wn3LNpVH3BXywxxq4qR79Bg8QtZMpgOciC5MvphWsr3xEF88IpwgdOTvpMmfcD9VfSEYSezF1DAa7fnw9IkPOniB10MpzcstWUVjEO71WGxNpLSvWKvONCtrPYVo52YsXJ7PvbLcu7iF4n01cVTK60wI4VKAxFC8_O3yaGdURAyxUpsyhqrwT6EvYgJBtOhhOyxctObPZy7sBWAdlhhy3JI6ud6Yb2CWHpVTgkgwWvZoOgR1AU6UMLA1K.sdPDiPlMbSIhfIA8RfEdZ7rahiFH1IQ4wfObKhpOQSFUYq9EyEfu8vPi7WWetdKTH9I6EzKAPLNqqX_vqA8WGi.HOlbqHPKQYiiqWv9380p5V3LN.66N_v2vOa8R2ZepIoG_kxpSjhNkQ_fzvyg5EZD4hG79jfcAx2kzaxg3WGDMPca8zlnliPBjpLzz3Mb0hvAwirTfkdo9Isc3Od147RdqOBCWCmjEHC_q_S_n97hCAfmjE0AXZ8Tjfk97AwZHSYAFlDajA82QiFjL2NffDvqUmrGersQUJDtBC_BDis3krvtnjg.MGno7Vs8PRRRWxoq44lmWhSvvyjQmyw\"};var cpo = document.createElement(\\'script\\');cpo.src = \\'/cdn-cgi/challenge-platform/h/g/orchestrate/chl_page/v1?ray=91dc91d9dd39b0fe\\';window._cf_chl_opt.cOgUHash = location.hash === \\'\\' && location.href.indexOf(\\'#\\') !== -1 ? \\'#\\' : location.hash;window._cf_chl_opt.cOgUQuery = location.search === \\'\\' && location.href.slice(0, location.href.length - window._cf_chl_opt.cOgUHash.length).indexOf(\\'?\\') !== -1 ? \\'?\\' : location.search;if (window.history && window.history.replaceState) {var ogU = location.pathname + window._cf_chl_opt.cOgUQuery + window._cf_chl_opt.cOgUHash;history.replaceState(null, null, \"\\\\/migration?page=0&__cf_chl_rt_tk=Z4JUVVflpqyijBfzTVuBI8X4lZSG4xDWIyTpB7Qu2xE-1741544252-1.0.1.1-u9unTvQ3GbY5krfXUe86lJrxr0_cQvsSlpyTEIf6Qi0\" + window._cf_chl_opt.cOgUHash);cpo.onload = function() {history.replaceState(null, null, ogU);}}document.getElementsByTagName(\\'head\\')[0].appendChild(cpo);}());</script></body></html>'\n"
     ]
    }
   ],
   "source": [
    "# list_url = 'https://www.thenewhumanitarian.org/migration?page=0'\n",
    "# response = requests.get(list_url, headers=headers) #-> this is only get source of javascript\n",
    "# print(response.content)"
   ]
  },
  {
   "cell_type": "code",
   "execution_count": 46,
   "metadata": {},
   "outputs": [],
   "source": [
    "db_client = pymongo.MongoClient('mongodb://localhost:27017')\n",
    "collections = db_client['db_migration']\n",
    "tb_article = collections['tb_article']"
   ]
  },
  {
   "cell_type": "code",
   "execution_count": 47,
   "metadata": {},
   "outputs": [],
   "source": [
    "def upsert_article_meta(article_detail):\n",
    "        db_article = tb_article.find_one({'url': article_detail['url']})\n",
    "        if db_article is None:\n",
    "            #insert\n",
    "            tb_article.insert_one(article_detail)\n",
    "            print(\"Inserted +++++++++++ article: \" + article_detail['title'])\n",
    "        else:\n",
    "            #update\n",
    "            tb_article.update_one({'url': article_detail['url']}, {'$set': article_detail})\n",
    "            print(\"Updated ............ article: \" + article_detail['title'])"
   ]
  },
  {
   "cell_type": "code",
   "execution_count": 33,
   "metadata": {},
   "outputs": [],
   "source": [
    "\n",
    "def scrape_text_data(url):\n",
    "    try:\n",
    "        # Set up Chrome WebDriver\n",
    "        service = Service('../chromedriver') # or geckodriver for firefox\n",
    "        driver = webdriver.Chrome(service=service) # or webdriver.Firefox(service=service)\n",
    "\n",
    "        # Navigate to the webpage\n",
    "        driver.get(url)\n",
    "\n",
    "        # Wait for JavaScript to load (adjust time as needed)\n",
    "        driver.implicitly_wait(10)  # Waits up to 10 seconds for elements to appear\n",
    "\n",
    "        # Get the rendered HTML\n",
    "        html = driver.page_source\n",
    "\n",
    "        # Close the browser\n",
    "        driver.quit()\n",
    "\n",
    "        # Parse the HTML with BeautifulSoup\n",
    "        soup = BeautifulSoup(html, \"html.parser\")\n",
    "\n",
    "        return soup\n",
    "    except:\n",
    "        print('Error when scraping webpage')\n",
    "        return ''"
   ]
  },
  {
   "cell_type": "code",
   "execution_count": 43,
   "metadata": {},
   "outputs": [],
   "source": [
    "#There may have different content type\n",
    "#1: normal article: (https://www.thenewhumanitarian.org/opinion/2025/02/04/how-europe-can-escape-migration-deterrence-trap)\n",
    "#2: report article: (https://www.thenewhumanitarian.org/analysis/2025/01/07/trends-will-spur-humanitarian-needs-2025)\n",
    "def extract_content(soup):\n",
    "    content = ''\n",
    "    #type 1\n",
    "    items = soup.find_all('li', attrs={'class': 'field-name-body flow'})\n",
    "    no_of_paragraphs = len(items)\n",
    "    for i in range(0, no_of_paragraphs):\n",
    "        if i == no_of_paragraphs -1:\n",
    "            #this is the last item, we need to check whether it is note or not (https://www.thenewhumanitarian.org/opinion/2025/02/04/how-europe-can-escape-migration-deterrence-trap)\n",
    "            em_tag = items[i].find('em')\n",
    "            if em_tag is not None:\n",
    "                break   #do not include this paragraph in the final content\n",
    "        content += items[i].text.strip()\n",
    "\n",
    "    return content"
   ]
  },
  {
   "cell_type": "code",
   "execution_count": null,
   "metadata": {},
   "outputs": [
    {
     "name": "stdout",
     "output_type": "stream",
     "text": [
      "Updated ............ article: How Europe can escape the migration deterrence trap\n",
      "Updated ............ article: Gaza ceasefire: The sobering reality of a day after that may never come\n",
      "Updated ............ article: Dadaab Voices: Somali refugees fear Trump’s return\n",
      "Updated ............ article: Syria is still not safe: Refugees need protection\n",
      "Updated ............ article: Humanitarian crises that demand your attention now\n",
      "Updated ............ article: Trends that will spur humanitarian needs in 2025\n",
      "Updated ............ article: Editors’ picks: Ten stories from 2024 that still matter in 2025\n",
      "Updated ............ article: Greece jailed “Pylos 9” despite knowing they were innocent as Egypt prosecuted the real smugglers\n",
      "Updated ............ article: What are Safety Mobility Offices and will Trump’s migrant crackdown scupper them?\n",
      "Updated ............ article: “There is no food”: Venezuelan migrants neglected in oil-rich Guyana\n",
      "Updated ............ article: Deterrence policies and cartel violence fuel a humanitarian crisis in southern Mexico\n",
      "Updated ............ article: The risk of return: As Israel bombs Lebanon, Syrian deportees face detention, conscription, or worse\n",
      "Updated ............ article: Aid cut fallout, Gaza blockade, and the future of Ukraine\n",
      "Updated ............ article: Terse termination notices, Bukavu blasts, and colonialism at the Oscars: The Cheat Sheet\n",
      "Updated ............ article: Aid’s system reboot, Germany’s high-stakes polls, and Sudan’s latest massacre\n",
      "Updated ............ article: Spurious exemptions, one-sided Ukraine talks, and a busy AU summit\n"
     ]
    }
   ],
   "source": [
    "#get list of url in page\n",
    "list_url = 'https://www.thenewhumanitarian.org/migration?page=0'\n",
    "max_index = 16000   #thenewhumanitarian.org\n",
    "max_pages = 1   #1000    #assuming we have 1000 pages\n",
    "for i in range(0, max_pages):\n",
    "    list_url = 'https://www.thenewhumanitarian.org/migration?page=' + str(i)\n",
    "    soup = scrape_text_data(list_url)\n",
    "    if soup == '':\n",
    "        print('Error when scraping webpage: ' + list_url)\n",
    "    else:   \n",
    "        items = soup.find_all('li', attrs={'class': 'teaser-list__item'})\n",
    "        long_text = ''\n",
    "        for item in items:\n",
    "            article_detail = {\n",
    "                'category': item.find('li', attrs={'class': 'meta-list__item meta-list__item--theme'}).text,\n",
    "                'date': item.find('span', attrs={'class': 'date--long'})['content'],\n",
    "                'url': item.find('a')['href'],\n",
    "                'title': item.find('h3', attrs={'class': 'teaser__title'}).text.strip(),\n",
    "                'content': '',\n",
    "                'len_content': 0,\n",
    "                'is_scraped': 0\n",
    "            }\n",
    "            #upsert db\n",
    "            upsert_article_meta(article_detail)\n",
    "            "
   ]
  },
  {
   "cell_type": "code",
   "execution_count": null,
   "metadata": {},
   "outputs": [],
   "source": []
  }
 ],
 "metadata": {
  "kernelspec": {
   "display_name": "3.9.10",
   "language": "python",
   "name": "python3"
  },
  "language_info": {
   "codemirror_mode": {
    "name": "ipython",
    "version": 3
   },
   "file_extension": ".py",
   "mimetype": "text/x-python",
   "name": "python",
   "nbconvert_exporter": "python",
   "pygments_lexer": "ipython3",
   "version": "3.9.10"
  }
 },
 "nbformat": 4,
 "nbformat_minor": 2
}
