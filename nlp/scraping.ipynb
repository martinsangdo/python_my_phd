{
 "cells": [
  {
   "cell_type": "code",
   "execution_count": 1,
   "metadata": {},
   "outputs": [],
   "source": [
    "#scrape articles from multiple sources\n",
    "#can use free scraping API free online? -> no"
   ]
  },
  {
   "cell_type": "markdown",
   "metadata": {},
   "source": [
    "1. https://www.thenewhumanitarian.org/\n",
    "https://www.thenewhumanitarian.org/rss/all.xml\n",
    "-> ok\n",
    "2. \n",
    "\n"
   ]
  },
  {
   "cell_type": "markdown",
   "metadata": {},
   "source": [
    "Asking Gemini: is this article related closely to the topic forced displacement? https://www.thenewhumanitarian.org/film/why-are-honduran-farmers-being-forced-urban-gang-areas -> this is only video\n",
    "\n",
    "-> Yes, this article is related closely to the topic forced displacement. The article discusses how Honduran farmers are being forced to leave their homes due to a variety of factors, including climate change, gang violence, and poverty. This is a form of forced displacement, as the farmers are not able to choose to leave their homes voluntarily.\n",
    "\n",
    "Is this article related closely to the topic of forced displacement? https://www.thenewhumanitarian.org/opinion/first-person/2024/02/20/sudan-war-sudanese-journalist-describes-horror-she-cannot-cover\n",
    "-> No, this article is not related closely to the topic of forced displacement, according to the article. Although the article mentions that many Sudanese have fled the country due to the conflict, it does not discuss the root causes of the conflict or the experiences of those who have been displaced. Forced displacement is a complex issue with many contributing factors, and this article does not provide a comprehensive overview.\n",
    "\n",
    "Is this article related closely to the topic of forced displacement? https://www.thenewhumanitarian.org/opinion/2024/06/11/denial-humanitarian-assistance-death-sentence-myanmar\n",
    "-> Yes, this article is related to forced displacement. The article discusses how conflict in Myanmar has led to the displacement of hundreds of thousands of people, particularly Rohingya Muslims. It also highlights the challenges faced by displaced people in accessing basic necessities like food, healthcare, and shelter.\n",
    "\n",
    "Is this article related closely to the topic of forced displacement? https://www.thenewhumanitarian.org/interview/2024/05/29/arakan-army-responds-rohingya-abuse-accusations-myanmar\n",
    "-> Yes, this article is related closely to the topic of forced displacement. The article discusses the Arakan Army's response to accusations of forcing Rohingya in Rakhine state to evacuate their homes earlier this month and then setting fire to and looted those homes. [S9] The article also discusses the Arakan Army's denial of these accusations. [S10]\n",
    "\n",
    "\n",
    "Is this article related closely to the topic of forced displacement? https://www.thenewhumanitarian.org/news-feature/2024/09/26/inside-effort-help-gaza-university-students-continue-education-studies\n",
    "-> While I aim to be helpful, Google Search may provide a more detailed and accurate response on this topic.\n",
    "-> The article is somewhat related to forced displacement.\n",
    "While the article itself doesn't explicityly mention forced displacement, it does discuss the challenges students face in accessing education after the war [S5, S6, S7]. Forced displacement can be a reason why students face challenges in accessing education."
   ]
  },
  {
   "cell_type": "code",
   "execution_count": null,
   "metadata": {},
   "outputs": [],
   "source": [
    "from selenium import webdriver\n",
    "from selenium.webdriver.chrome.service import Service\n",
    "from selenium.webdriver.common.by import By\n",
    "import requests\n",
    "from bs4 import BeautifulSoup"
   ]
  },
  {
   "cell_type": "code",
   "execution_count": null,
   "metadata": {},
   "outputs": [],
   "source": [
    "# url = \"https://www.thenewhumanitarian.org/news-feature/2024/09/26/inside-effort-help-gaza-university-students-continue-education-studies\"\n",
    "url = 'https://www.thenewhumanitarian.org/news-feature/2025/03/06/gaza-strip-israel-aid-blockade-deeper-humanitarian-crisis'\n"
   ]
  },
  {
   "cell_type": "code",
   "execution_count": null,
   "metadata": {},
   "outputs": [],
   "source": [
    "#https://www.zenrows.com/blog/python-requests-proxy#perform-requests\n",
    "proxy_addresses = {\n",
    "    'http': 'http://46.47.197.210:3128',\n",
    "    'https': 'http://35.198.189.129:8080'\n",
    "}\n",
    "headers = {\n",
    "    \"User-Agent\": \"Mozilla/5.0 (Windows NT 10.0; Win64; x64) AppleWebKit/537.36 (KHTML, like Gecko) Chrome/129.0.0.0 Safari/537.36\",\n",
    "}"
   ]
  },
  {
   "cell_type": "code",
   "execution_count": null,
   "metadata": {},
   "outputs": [
    {
     "name": "stdout",
     "output_type": "stream",
     "text": [
      "b'<!DOCTYPE html><html lang=\"en-US\"><head><title>Just a moment...</title><meta http-equiv=\"Content-Type\" content=\"text/html; charset=UTF-8\"><meta http-equiv=\"X-UA-Compatible\" content=\"IE=Edge\"><meta name=\"robots\" content=\"noindex,nofollow\"><meta name=\"viewport\" content=\"width=device-width,initial-scale=1\"><style>*{box-sizing:border-box;margin:0;padding:0}html{line-height:1.15;-webkit-text-size-adjust:100%;color:#313131;font-family:system-ui,-apple-system,BlinkMacSystemFont,Segoe UI,Roboto,Helvetica Neue,Arial,Noto Sans,sans-serif,Apple Color Emoji,Segoe UI Emoji,Segoe UI Symbol,Noto Color Emoji}body{display:flex;flex-direction:column;height:100vh;min-height:100vh}.main-content{margin:8rem auto;max-width:60rem;padding-left:1.5rem}@media (width <= 720px){.main-content{margin-top:4rem}}.h2{font-size:1.5rem;font-weight:500;line-height:2.25rem}@media (width <= 720px){.h2{font-size:1.25rem;line-height:1.5rem}}#challenge-error-text{background-image:url(data:image/svg+xml;base64,PHN2ZyB4bWxucz0iaHR0cDovL3d3dy53My5vcmcvMjAwMC9zdmciIHdpZHRoPSIzMiIgaGVpZ2h0PSIzMiIgZmlsbD0ibm9uZSI+PHBhdGggZmlsbD0iI0IyMEYwMyIgZD0iTTE2IDNhMTMgMTMgMCAxIDAgMTMgMTNBMTMuMDE1IDEzLjAxNSAwIDAgMCAxNiAzbTAgMjRhMTEgMTEgMCAxIDEgMTEtMTEgMTEuMDEgMTEuMDEgMCAwIDEtMTEgMTEiLz48cGF0aCBmaWxsPSIjQjIwRjAzIiBkPSJNMTcuMDM4IDE4LjYxNUgxNC44N0wxNC41NjMgOS41aDIuNzgzem0tMS4wODQgMS40MjdxLjY2IDAgMS4wNTcuMzg4LjQwNy4zODkuNDA3Ljk5NCAwIC41OTYtLjQwNy45ODQtLjM5Ny4zOS0xLjA1Ny4zODktLjY1IDAtMS4wNTYtLjM4OS0uMzk4LS4zODktLjM5OC0uOTg0IDAtLjU5Ny4zOTgtLjk4NS40MDYtLjM5NyAxLjA1Ni0uMzk3Ii8+PC9zdmc+);background-repeat:no-repeat;background-size:contain;padding-left:34px}@media (prefers-color-scheme:dark){body{background-color:#222;color:#d9d9d9}}</style><meta http-equiv=\"refresh\" content=\"390\"></head><body class=\"no-js\"><div class=\"main-wrapper\" role=\"main\"><div class=\"main-content\"><noscript><div class=\"h2\"><span id=\"challenge-error-text\">Enable JavaScript and cookies to continue</span></div></noscript></div></div><script>(function(){window._cf_chl_opt={cvId: \\'3\\',cZone: \"www.thenewhumanitarian.org\",cType: \\'managed\\',cRay: \\'91dc91d9dd39b0fe\\',cH: \\'flxzXqZMeSpkY58SFMKyxuEDm_yVa4OzehAvNCNsGrU-1741544252-1.2.1.1-14esUKCrnpAM3CcyThh4M6BT8epbj5M8v7WHERREG4DiTL0PYrZfM.o6mTdXvDy1\\',cUPMDTk: \"\\\\/migration?page=0&__cf_chl_tk=Z4JUVVflpqyijBfzTVuBI8X4lZSG4xDWIyTpB7Qu2xE-1741544252-1.0.1.1-u9unTvQ3GbY5krfXUe86lJrxr0_cQvsSlpyTEIf6Qi0\",cFPWv: \\'g\\',cITimeS: \\'1741544252\\',cTTimeMs: \\'1000\\',cMTimeMs: \\'390000\\',cTplC: 0,cTplV: 5,cTplB: \\'cf\\',cK: \"\",fa: \"\\\\/migration?page=0&__cf_chl_f_tk=Z4JUVVflpqyijBfzTVuBI8X4lZSG4xDWIyTpB7Qu2xE-1741544252-1.0.1.1-u9unTvQ3GbY5krfXUe86lJrxr0_cQvsSlpyTEIf6Qi0\",md: \"NANg.f.JUR1JRW7Q71DAsu9oxeV3uRonOJvSGoc4PJ4-1741544252-1.2.1.1-6t.m5H.iTLSWOHEH9TnYrjHZfaZ_OsWFgD9nE0_gmd8QVeOryBR58iImU383iTJUqjSurYZvj46IkDiBJzvZt5waSBuD1NCFtX1qPZYqrFb9s231CjHjSil9qAlz2Qv45yo9_k.RBNgHmMpOP5gyFMcqtT1OvD.H70UieEUei3wVM9rXtUE7oFIaZTdKGzcdpOKYvXX6aZdYnY2aoXlaV0mCBZyHHe8HyzorW3lYaFtYCFmdh56WkMJsYh5Y.f_OO8KE.gfWJd1OmsgTTRQz10m8rtYTAbY1TawfFfkXQhIxj3Y3TyiDT6uQmpK12KNH3W5CvwFIBsbrFLd5H0LogCEWz1mSTZGhdtBEz5D27IeKQX97H21m17pVDgL2mcshxz_rElIMHLd1O1kIMp1XkkZJkIG.FdWUZVKapnbi0jG5gr5NCd3D0PIgydBhRj69tB3CEkPcad3iXDRrwlUwRZLVklha3.fvuRueLnUR5Abex7h.pDs0aKO7_8Ho4h5c605S3GMJY7mpbYUKfuYYAWgonNT2BALfVwc5cHxnMiqEJ1w2MmX8Ep3k9rJmxOMojXp5A9jOh8ssUtSJMMbXdbFh9Nd0h1GXz7e3LlG6kjGvvaGak4pWqA7jfyjNoqYvj5QZZPrHgstwReMDuFLNSwh2IoFIx08uLZezNf0Q3DwTGDzB5v3eeqcQ7rMTWmTVB16WHKPF8a2iQUrfBtGidTSqNB1n2Ntj9f2OcoVSHGIAjxUttfe5h8VxK8dbuEbVeCth5tdR52ABWSEup1Axj5jjyB7yxMdZMj9D_aUiSqSyq46U4EOKgq7E70hTGy8RMQLCShSvSVgon8Ju4861f44RMsPUX2ul6JUd_ghoF30kX1BrD77hYxyNqT0ZelnMUOAuZ1tAeadlSzWNbRFSxqBbQDv7CDtGdxRHVXW2wc0ecqGiT.62M9v.dTCn7v8s3PwCGu2em_mJAjDlSLOSnTNGMy2zmbD9ngxalWri7ySunSfBwd6yglOJOEZtDKTRyROzSZox6WJ.1BlDFp9vI_Wrm1EQ31h7n0l73uuEoYeTziARuYdp76lYOq3P2xHA_mG3.OMcoDDrQKdXp.IhLMXJj5k5_qykqymyhN2mtnxEjeCs4ZsmF.0EHEMS.TVcGvhzRHgWb.q_3CU3M1jsDr7g5vg5kOYE2TelIZgtoVI\",mdrd: \"hEICkHv9JKkWP5DfxhbgaYbeilrDPbwOEvj4Tn_CReU-1741544252-1.2.1.1-nOSaYblwC2s_72j9mjNdBXGHpIirkR7z1oOaOuuq2OHySx1cQcMBAVQjZvzVXfFKKOOvWZE8M9CDr_ymnwU1JeWSVgNZ2vbTQQT8DMQCLcYexMBs4fxMKmmV8RFnSsKc_VE3iBqPOVJ1Ib.D3nMulJYr8tNWXWXZM5tz1.ibfpcyIOgk7.Rx6Rl23z9go61wWppllDa3xUU3YTJXF977uyQfVwNrEWz.YFZ4NuOg6AaWCs0uCsjbPJMVHBZ44T51.4Sgiv.ADO2ofigA62ZBMpyTRRfuHDWyEl5R_GigsS4AryQgZk4O.DgSvyX7BXT8OzYLE6xlhJkUMzz_ZVP.zG7cIOfn7XYjCibgITSdiyDbu90Uo9xHfRXmmjpwTknqE2.HbCW1iBezD4j7dSOdesCHmYABPY.UQ.vv9O29ngHIdK0kSqrsiCPFmzfnkCvXlrw.DfeYCqft09eCnKWxOy47Ia5XSJ7g_oxU._YKqR43DOtgy1ZUmRqwWS6yGG8wU1ZFE8qbEXrEBYJu9QMl8qbyrKJHzKv8y8T6cRaIFBF6CRv3Aph5PbBcLM08HUYDUY2UMbZMLAZi5870O6w5bgHNa_X7ita_kB09vOJG4t1pxkYW0mGkMDCTSY9akGtydm8r_ac3SZaVihp_VOnC4.kmkEUf3gF0BlgPU8ubZGmOdHPYkyIPGYfH34bTm_YxOhzbxSDPwm3iH2NDJMnmTggl7_wErVMSCWJHIvzOK6HQK5.Lu.auwW1cN.IJ7zTfBtkW5ssxgJr6Rs6BLO6z.N2klrRcrA.d70mVY4lfXMB8l8pH8r.0XYskr9PDrUMF5orgT9zaA1U.Km64YtRJ1JV8SrapQLFBMbjOMukpqhTNTFc7YN_h1.FxgQRtwgxmC8uSrpNDM0HrTRVK4aJOaDy_J27rH4Prw4XE2KlS8jPVJyDckxiIWIgms0s_Y7bWHj2f3ZsdRlLHESQbn9Xlesr15Gxa2ON9Tv_.9o6UFQlJ5jOr2_akNUbnvPLhzea_bYH2hW82EHYrV96dlDb_PSll1FwoPj5hPfdM5YZrW6MiMBSoZHu6z56SlAWkOWprdVH8SFEEtm7FjkUvfJIkhXgA4MohNxyiPCaZm7BRVH2Ob5oDl7VzyXFjWqL6sDtAncqGRXW0NlpSAWXNwXvGYao.iphdym6TQKlICoyphXaI_GdHLxvAi6tqJyunXXKiKyYmK5p_8rp64vhRh56kekk3i_.lUENYDiWqsD26vbtVcThNrUvk5EHV7ZGeU10k4RcXHRerd16Q5KKnlFHZX_lpHiDRll133nQLMpMQauirfCXOqXWaiAkbXOS8T5GX9pHsWJQhm.SBc8b6FCgeC3UtHWVVHpKECnOkKA1wz5atKtGlEBBeoUFc0vJBLQQ2TnOPk1New_zyPxFMerH4jLB2Spv941eRl0vmjTvqAt6UzwlWmeTSg5.phJWhrNJr9fSwmY2qAS_w_nL0Sy.L2LA1m4VUmpl2T8IV_csKArEXl153vXXDXsShbCLHprYKXaS3XQ84bUu_yhdQ3p.w9aeW9DhoxuwS06kgso78yKUYWJgDfk8upzmUvUec4iUwpKLkZp2FuDVju3YkotLQRQ.zkw_Tkmg3r0dTKD8NSajgtmZ3Na1KQVNzfTLohHqygJHK2qGD_Q8.vDUdK45XF4YTgVc6C9pQQpXkQDxXVLTQnCd.VviUk7IbrvgVU8_E61rYm5hBChLidNSca1UZ3M0Mu9Ra1q3Wn3LNpVH3BXywxxq4qR79Bg8QtZMpgOciC5MvphWsr3xEF88IpwgdOTvpMmfcD9VfSEYSezF1DAa7fnw9IkPOniB10MpzcstWUVjEO71WGxNpLSvWKvONCtrPYVo52YsXJ7PvbLcu7iF4n01cVTK60wI4VKAxFC8_O3yaGdURAyxUpsyhqrwT6EvYgJBtOhhOyxctObPZy7sBWAdlhhy3JI6ud6Yb2CWHpVTgkgwWvZoOgR1AU6UMLA1K.sdPDiPlMbSIhfIA8RfEdZ7rahiFH1IQ4wfObKhpOQSFUYq9EyEfu8vPi7WWetdKTH9I6EzKAPLNqqX_vqA8WGi.HOlbqHPKQYiiqWv9380p5V3LN.66N_v2vOa8R2ZepIoG_kxpSjhNkQ_fzvyg5EZD4hG79jfcAx2kzaxg3WGDMPca8zlnliPBjpLzz3Mb0hvAwirTfkdo9Isc3Od147RdqOBCWCmjEHC_q_S_n97hCAfmjE0AXZ8Tjfk97AwZHSYAFlDajA82QiFjL2NffDvqUmrGersQUJDtBC_BDis3krvtnjg.MGno7Vs8PRRRWxoq44lmWhSvvyjQmyw\"};var cpo = document.createElement(\\'script\\');cpo.src = \\'/cdn-cgi/challenge-platform/h/g/orchestrate/chl_page/v1?ray=91dc91d9dd39b0fe\\';window._cf_chl_opt.cOgUHash = location.hash === \\'\\' && location.href.indexOf(\\'#\\') !== -1 ? \\'#\\' : location.hash;window._cf_chl_opt.cOgUQuery = location.search === \\'\\' && location.href.slice(0, location.href.length - window._cf_chl_opt.cOgUHash.length).indexOf(\\'?\\') !== -1 ? \\'?\\' : location.search;if (window.history && window.history.replaceState) {var ogU = location.pathname + window._cf_chl_opt.cOgUQuery + window._cf_chl_opt.cOgUHash;history.replaceState(null, null, \"\\\\/migration?page=0&__cf_chl_rt_tk=Z4JUVVflpqyijBfzTVuBI8X4lZSG4xDWIyTpB7Qu2xE-1741544252-1.0.1.1-u9unTvQ3GbY5krfXUe86lJrxr0_cQvsSlpyTEIf6Qi0\" + window._cf_chl_opt.cOgUHash);cpo.onload = function() {history.replaceState(null, null, ogU);}}document.getElementsByTagName(\\'head\\')[0].appendChild(cpo);}());</script></body></html>'\n"
     ]
    }
   ],
   "source": [
    "# list_url = 'https://www.thenewhumanitarian.org/migration?page=0'\n",
    "# response = requests.get(list_url, headers=headers) #-> this is only get source of javascript\n",
    "# print(response.content)"
   ]
  },
  {
   "cell_type": "code",
   "execution_count": 33,
   "metadata": {},
   "outputs": [],
   "source": [
    "\n",
    "def scrape_text_data(url):\n",
    "    try:\n",
    "        # Set up Chrome WebDriver\n",
    "        service = Service('../chromedriver') # or geckodriver for firefox\n",
    "        driver = webdriver.Chrome(service=service) # or webdriver.Firefox(service=service)\n",
    "\n",
    "        # Navigate to the webpage\n",
    "        driver.get(url)\n",
    "\n",
    "        # Wait for JavaScript to load (adjust time as needed)\n",
    "        driver.implicitly_wait(10)  # Waits up to 10 seconds for elements to appear\n",
    "\n",
    "        # Get the rendered HTML\n",
    "        html = driver.page_source\n",
    "\n",
    "        # Close the browser\n",
    "        driver.quit()\n",
    "\n",
    "        # Parse the HTML with BeautifulSoup\n",
    "        soup = BeautifulSoup(html, \"html.parser\")\n",
    "\n",
    "        return soup\n",
    "    except:\n",
    "        print('Error when scraping webpage')\n",
    "        return ''"
   ]
  },
  {
   "cell_type": "code",
   "execution_count": 34,
   "metadata": {},
   "outputs": [
    {
     "name": "stdout",
     "output_type": "stream",
     "text": [
      "\n",
      "A complete blockade on aid entering the Gaza Strip is threatening to collapse the fragile ceasefire that has been in place since 19 January and to pitch the already devastated territory into renewed violence and an even deeper humanitarian catastrophe.\n",
      "The blockade, imposed by Israel since 2 March, is aimed at changing the terms of the three-phase ceasefire agreement between Israel and the Palestinian political and militant group Hamas, which has governed Gaza since 2007.\n",
      "“The move will further starve the population and strip civilians of the basic needs to stay alive,” said Amjad al-Shawa, director of the Palestinian NGO Network in Gaza, an umbrella group for local organisations. \"The whole of Gaza's population relies fully on aid, of all kinds, as a result of the demolition of the economic and social infrastructure.\"\n",
      "The first phase of the ceasefire deal ended at the beginning of March. Israeli Prime Minister Benjamin Netanyahu showed no real intention of engaging in good-faith negotiations over the second phase, which were supposed to produce a plan for Gaza’s post-war governance and result in the total withdrawal of the Israeli military from the territory. \n",
      "Instead, Israel is pushing Hamas to accept a temporary extension of the first phase of the agreement, which saw civilians and military personnel taken hostage by Hamas during its deadly 7 October 2023 attacks into Israel – as well as the remains of some who had died – released in exchange for the release of hundreds of Palestinians held in Israeli jails and an increase in aid deliveries.\n",
      "The new proposal, which Netanyahu says has US backing, calls for the release of half of the remaining 59 people held by Hamas – around 24 of whom are believed to still be alive – but does not mention the release of Palestinian detainees and delays discussion of the withdrawal of Israeli troops and plans for Gaza’s future governance for a further six weeks. \n",
      "It also comes as Netanyahu repeatedly voices support for US President Donald Trump’s call for the 2.1 million Palestinians who live in Gaza to be expelled and for the US to take control of the territory and reconstruct it into a “riviera” – a proposal that has been widely condemned as a plan for ethnic cleansing. \n",
      "At a meeting in Cairo this week, leaders of Arab countries put forward a counterproposal to Trump’s vision, endorsing a $53 billion reconstruction plan that would eventually see a reformed Palestinian Authority assume governing responsibilities in Gaza. Israel and the US immediately rejected the proposal.\n",
      "Amid the lack of clarity about any path forward, the near-total collapse of governance in Gaza precipitated by Israel’s 15-month military campaign has left resource-strapped NGOs in the challenging position of trying to fill in yawning gaps in the provision of service to a battered population.\n",
      "“The complete absence of government institutions since the war began has forced NGOs – local, international, and UN agencies – to take on roles they were never meant to handle,” said Wafaa al-Derawi, acting director of the Middle East Children's Alliance (MECA) in Gaza. “Our work is supposed to complement government efforts, not replace them.”\n",
      "Israel’s imposition of a total blockade – which Amnesty International called “a flagrant violation of international law” – will only make matters worse, leading to increased suffering and lives lost, according to aid groups.\n",
      "“It changed nothing on the ground”\n",
      "Even before Israel once again shuttered Gaza’s border crossings, Palestinians in the territory were saying that the increased amount of aid allowed to enter during the first phase of the ceasefire – consisting primarily of food items – was failing to meet many of their pressing needs, from housing to healthcare. \n",
      "As a stark testament to this fact, at least six newborn babies have died from exposure to severe cold in Gaza in recent weeks. \n",
      "Amani al-Shambari, 24, is one of the young mothers who lost a newborn child. “We did not die from the bombing, but my baby died from the cold because of the Israeli siege,” al-Shambari told The New Humanitarian. \n",
      "Her daughter, Sham, was born on 1 January in al-Mawasi, the so-called humanitarian zone that Israel pushed much of Gaza’s population into over the course of its military campaign. When the ceasefire was announced several weeks later, the family welcomed it and eagerly waited for their living conditions to improve. \n",
      "But on 25 February, Sham died in the flimsy tent where they were living. Their home in Beit Hanoun in northern Gaza had long-since been destroyed, and despite the pause in hostilities they had nowhere else to go. “Our tent is torn and the chilling wind blows in, biting into our bodies as adults. How could weeks-old babies tolerate this freezing weather?” al-Shambari said between sobs. \n",
      "Israel’s onslaught destroyed or damaged over 90% of housing units in Gaza, leaving more than 1.8 million people in need of emergency shelter, according to the UN, while 95% of hospitals in the enclave suffered significant damage and 65% of roads have been destroyed. The economy has also contracted by 83%, and the entire population has been forced to depend on food assistance to survive, with Israeli restrictions and attacks on aid bringing people to the brink of famine multiple times.\n",
      "\n",
      "\n",
      "\n",
      "\n",
      "\n",
      "\t\t\t\t\t\t\n",
      "      Mohamed Soulaimane al-Astal/TNH\n",
      "  \n",
      "\t\t\t\t\t\n",
      "\n",
      "\n",
      "\t\t\t\t\n",
      "      With severely limited supplies, Palestinians in Gaza attempt to reconstruct houses to provide shelter from the freezing weather.\n",
      "  \n",
      "\t\t\t\n",
      "\n",
      "\n",
      "The announcement of the ceasefire in mid-January initially raised hopes that supplies would be surged into the territory to stabilise the situation and begin the long process of building back. Israel allowed a total of 25,200 aid trucks – an average of 600 per day – to enter Gaza during the first phase of the deal, according to COGAT, the Israeli military body responsible for coordinating humanitarian affairs in the occupied Palestinian territories. \n",
      "The number of trucks entering during the first phase of the deal represented a significant increase compared to before the ceasefire. But the content of the deliveries was not matched to the needs on the ground, according to Dr Maher al-Tabbaa, a Gaza-based economic analyst and director general of the Gaza Chamber of Commerce and Industry. “No materials have entered to support construction, commerce, agriculture, or services. The truce was merely a prisoner exchange agreement – it changed nothing on the ground,” al-Tabbaa said.\n",
      "A 2 March statement from the Gaza government’s media office said only a very small and insufficient amount of construction equipment needed to clear rubble and rebuild homes had been allowed to enter, and that Israel had allowed in less than 50% of the amount of fuel that had been agreed to in the ceasefire deal. \n",
      "Israel also failed to allow in adequate supplies to begin to restock and rebuild Gaza’s decimated medical system, according to Dr Mohammad Abu Salmiya, director of Gaza City’s Al-Shifa Hospital. “In the entirety of the northern Gaza Strip, for example, there are only three intensive care beds and one oxygen station, despite the return of hundreds of thousands [of people],” he told The New Humanitarian.\n",
      "Now, Israel has allowed no new supplies to enter Gaza since 2 March. \n",
      "“Closing the borders is the exact opposite of what Gaza’s health sector needs. We need immediate support to revive it,” Abu Salmiya said.\n",
      "The vast majority of what was allowed to enter during the 42-day first phase was food supplies, according to numerous aid and government officials The New Humanitarian spoke to. This led to a greater variety and quantity of food items being available in local markets and to a drop in prices, bringing some relief to Gaza’s dire, man-made food crisis. Since the total blockade began, however, prices have shot up again, according to al-Tabbaa. \n",
      "“The truce was a deception,” al-Tabbaa added. “Every day in Gaza, we search for the most basic necessities and come up empty-handed.”\n",
      "“NGOs took on everything”\n",
      "Despite the absence of desperately needed supplies, humanitarian organisations have been scrambling during the ceasefire to make the best of the pause in violence, but without any clear government authority, what they can realistically achieve is limited. \n",
      "During normal times, NGOs in Gaza provided specialised support, such as education, clean water projects, and mental health services, according to al-Derawi, from MECA. “Now, we are responsible for the most basic survival needs, from clearing rubble to securing drinking water and waste disposal – tasks that municipal authorities once oversaw,” she explained.\n",
      "During the first phase of the ceasefire, the remnants of the Hamas-run government and its institutions slowly began to reemerge and resume their roles. Various government ministries and agencies issued statements about the beginning of projects, such as fixing water pipelines or working to restore electricity supplies. A number of courts also announced they were slowly resuming work, and civilian policemen – systematically targeted by Israel during the war – began showing up public in growing numbers. \n",
      "At the end of February, The New Humanitarian watched as a handful of policemen attempted to regulate the chaotic flow of cars and animal-drawn carts at what remains of the Abu Suhaila roundabout, a key junction leading into the devastated city of Khan Younis. Their attire was a faint echo of the uniforms they once wore: One had only a cap bearing a police emblem, while another had thrown a navy-blue police jumper over his everyday clothes. Their efforts to impose order seemed futile against the backdrop of destruction. \n",
      "Israel has repeatedly stated that the primary objective of its war is to dismantle Hamas. In pursuit of that goal, it has systematically targeted institutions tied to the group’s authority, including courts, prisons, police stations, and municipal offices, as well as hospitals and schools.  Senior Hamas leaders have been assassinated, government officials killed, and the surviving civil workforce scattered.\n",
      "“By dismantling the justice system, police, and municipal services, Israel ensured lawlessness,” said al-Shawa, from the Palestinian NGO Network in Gaza. “This directly impacted aid work, as we faced constant looting and security threats and continued to face difficulties filling in the massive gap created by a constrained government.”\n",
      "“With all official agencies crippled, NGOs took on everything – food distribution, water provision, shelter, and even law enforcement in some cases,” al-Shawa added.\n",
      "For the catastrophic humanitarian situation to improve, Israel would have to stop restricting critical supplies from entering Gaza and a realistic plan for post-war governance would need to take shape. But with Israel imposing a new, complete blockade and Netanyahu voicing support for Trump’s plan to expel Palestinians from the territory, both appear to be a long way off.  \n",
      "Meanwhile, aid groups say they are trying to do what they can. “If there was a functioning government, aid work could be coordinated more efficiently. Instead, organisations are left to navigate this crisis, mostly alone,” al-Derawi said. \n",
      "This piece was published in collaboration with Egab. Edited by Dahlia Kholaif and Eric Reidy. \n",
      "\n",
      "Our ability to deliver compelling, field-based reporting on humanitarian crises rests on a few key principles: deep expertise, an unwavering commitment to amplifying affected voices, and a belief in the power of independent journalism to drive real change.\n",
      "We need your help to sustain and expand our work. Your donation will support our unique approach to journalism, helping fund everything from field-based investigations to the innovative storytelling that ensures marginalised voices are heard.\n",
      "Please consider joining our membership programme. Together, we can continue to make a meaningful impact on how the world responds to crises.\n",
      "\n"
     ]
    }
   ],
   "source": [
    "# Extract the desired content\n",
    "soup = scrape_text_data(url)\n",
    "if soup == '':\n",
    "    print('Error when scraping webpage')\n",
    "else:   \n",
    "    paragraphs = soup.find_all('div', attrs={'class': 'field-name-body flow'})\n",
    "    long_text = ''\n",
    "    for paragraph in paragraphs:\n",
    "        long_text += paragraph.text\n",
    "    print(long_text)"
   ]
  },
  {
   "cell_type": "code",
   "execution_count": 42,
   "metadata": {},
   "outputs": [
    {
     "name": "stdout",
     "output_type": "stream",
     "text": [
      "{'category': 'Migration', 'date': '1738673963', 'url': '/opinion/2025/02/04/how-europe-can-escape-migration-deterrence-trap', 'title': 'How Europe can escape the migration deterrence trap', 'is_scraped': 0}\n",
      "{'category': 'Conflict', 'date': '1737368981', 'url': '/analysis/2025/01/20/gaza-ceasefire-sobering-reality-day-after-may-never-come', 'title': 'Gaza ceasefire: The sobering reality of a day after that may never come', 'is_scraped': 0}\n",
      "{'category': 'Migration', 'date': '1737121039', 'url': '/feature/2025/01/17/dadaab-voices-somali-refugees-fear-trumps-return', 'title': 'Dadaab Voices: Somali refugees fear Trump’s return', 'is_scraped': 0}\n",
      "{'category': 'Migration', 'date': '1736845669', 'url': '/opinion/2025/01/14/syria-still-not-safe-refugees-need-protection', 'title': 'Syria is still not safe: Refugees need protection', 'is_scraped': 0}\n",
      "{'category': 'Aid and Policy', 'date': '1736353001', 'url': '/analysis/2025/01/08/humanitarian-crises-demand-your-attention-now', 'title': 'Humanitarian crises that demand your attention now', 'is_scraped': 0}\n",
      "{'category': 'Aid and Policy', 'date': '1736238659', 'url': '/analysis/2025/01/07/trends-will-spur-humanitarian-needs-2025', 'title': 'Trends that will spur humanitarian needs in 2025', 'is_scraped': 0}\n",
      "{'category': 'Aid and Policy', 'date': '1735801243', 'url': '/feature/2025/01/02/editors-picks-ten-stories-2024-still-matter-2025', 'title': 'Editors’ picks: Ten stories from 2024 that still matter in 2025', 'is_scraped': 0}\n",
      "{'category': 'Migration', 'date': '1733933680', 'url': '/investigations/2024/12/11/greece-jailed-pylos-9-despite-knowing-they-were-innocent-egypt-prosecuted', 'title': 'Greece jailed “Pylos 9” despite knowing they were innocent as Egypt prosecuted the real smugglers', 'is_scraped': 0}\n",
      "{'category': 'Migration', 'date': '1733414398', 'url': '/interview/2024/12/05/us-americas-what-are-safety-mobility-offices-and-will-trumps-migrant-crackdown-scupper', 'title': 'What are Safety Mobility Offices and will Trump’s migrant crackdown scupper them?', 'is_scraped': 0}\n",
      "{'category': 'Migration', 'date': '1732809839', 'url': '/photo-feature/2024/11/28/there-no-food-venezuelan-migrants-neglected-oil-rich-guyana', 'title': '“There is no food”: Venezuelan migrants neglected in oil-rich Guyana', 'is_scraped': 0}\n",
      "{'category': 'Migration', 'date': '1729511564', 'url': '/news-feature/2024/10/21/deterrence-policies-cartel-violence-fuel-humanitarian-crisis-southern-mexico', 'title': 'Deterrence policies and cartel violence fuel a humanitarian crisis in southern Mexico', 'is_scraped': 0}\n",
      "{'category': 'Migration', 'date': '1729072562', 'url': '/investigations/2024/10/16/risk-return-israel-bombs-lebanon-syrian-deportees-face-detention', 'title': 'The risk of return: As Israel bombs Lebanon, Syrian deportees face detention, conscription, or worse', 'is_scraped': 0}\n",
      "{'category': 'Aid and Policy', 'date': '1741274499', 'url': '/news/2025/03/07/aid-cut-fallout-gaza-israel-blockade-ukraine-future-cheat-sheet', 'title': 'Aid cut fallout, Gaza blockade, and the future of Ukraine', 'is_scraped': 0}\n",
      "{'category': 'Aid and Policy', 'date': '1740758328', 'url': '/news/2025/02/28/us-termination-notices-drc-bukavu-blasts-colonialism-oscars-cheat-sheet', 'title': 'Terse termination notices, Bukavu blasts, and colonialism at the Oscars: The Cheat Sheet', 'is_scraped': 0}\n",
      "{'category': 'Aid and Policy', 'date': '1740148459', 'url': '/news/2025/02/21/humanitarian-aid-system-reboot-germany-high-stakes-polls-elections-sudan-massacre', 'title': 'Aid’s system reboot, Germany’s high-stakes polls, and Sudan’s latest massacre', 'is_scraped': 0}\n",
      "{'category': 'Aid and Policy', 'date': '1739545925', 'url': '/news/2025/02/14/trump-aid-exemptions-one-sided-ukraine-talks-and-busy-au-summit-cheat-sheet', 'title': 'Spurious exemptions, one-sided Ukraine talks, and a busy AU summit', 'is_scraped': 0}\n"
     ]
    }
   ],
   "source": [
    "#get list of url in page\n",
    "list_url = 'https://www.thenewhumanitarian.org/migration?page=0'\n",
    "max_index = 12000   #thenewhumanitarian.org\n",
    "max_pages = 1   #1000    #assuming we have 1000 pages\n",
    "for i in range(0, max_pages):\n",
    "    list_url = 'https://www.thenewhumanitarian.org/migration?page=' + str(i)\n",
    "    soup = scrape_text_data(list_url)\n",
    "    if soup == '':\n",
    "        print('Error when scraping webpage: ' + list_url)\n",
    "    else:   \n",
    "        items = soup.find_all('li', attrs={'class': 'teaser-list__item'})\n",
    "        long_text = ''\n",
    "        for item in items:\n",
    "            article_detail = {\n",
    "                'category': item.find('li', attrs={'class': 'meta-list__item meta-list__item--theme'}).text,\n",
    "                'date': item.find('span', attrs={'class': 'date--long'})['content'],\n",
    "                'url': item.find('a')['href'],\n",
    "                'title': item.find('h3', attrs={'class': 'teaser__title'}).text.strip(),\n",
    "                'is_scraped': 0\n",
    "            }\n",
    "            print(article_detail)\n",
    "            "
   ]
  },
  {
   "cell_type": "code",
   "execution_count": null,
   "metadata": {},
   "outputs": [],
   "source": []
  }
 ],
 "metadata": {
  "kernelspec": {
   "display_name": "3.9.10",
   "language": "python",
   "name": "python3"
  },
  "language_info": {
   "codemirror_mode": {
    "name": "ipython",
    "version": 3
   },
   "file_extension": ".py",
   "mimetype": "text/x-python",
   "name": "python",
   "nbconvert_exporter": "python",
   "pygments_lexer": "ipython3",
   "version": "3.9.10"
  }
 },
 "nbformat": 4,
 "nbformat_minor": 2
}
