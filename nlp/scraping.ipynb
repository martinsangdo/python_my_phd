{
 "cells": [
  {
   "cell_type": "code",
   "execution_count": 2,
   "metadata": {},
   "outputs": [],
   "source": [
    "#scrape articles from multiple sources\n",
    "#can use free scraping API free online? -> no"
   ]
  },
  {
   "cell_type": "markdown",
   "metadata": {},
   "source": [
    "1. https://www.thenewhumanitarian.org/\n",
    "https://www.thenewhumanitarian.org/rss/all.xml\n",
    "-> ok\n",
    "2. \n",
    "\n"
   ]
  },
  {
   "cell_type": "markdown",
   "metadata": {},
   "source": [
    "Asking Gemini: is this article related closely to the topic forced displacement? https://www.thenewhumanitarian.org/film/why-are-honduran-farmers-being-forced-urban-gang-areas -> this is only video\n",
    "\n",
    "-> Yes, this article is related closely to the topic forced displacement. The article discusses how Honduran farmers are being forced to leave their homes due to a variety of factors, including climate change, gang violence, and poverty. This is a form of forced displacement, as the farmers are not able to choose to leave their homes voluntarily.\n",
    "\n",
    "Is this article related closely to the topic of forced displacement? https://www.thenewhumanitarian.org/opinion/first-person/2024/02/20/sudan-war-sudanese-journalist-describes-horror-she-cannot-cover\n",
    "-> No, this article is not related closely to the topic of forced displacement, according to the article. Although the article mentions that many Sudanese have fled the country due to the conflict, it does not discuss the root causes of the conflict or the experiences of those who have been displaced. Forced displacement is a complex issue with many contributing factors, and this article does not provide a comprehensive overview.\n",
    "\n",
    "Is this article related closely to the topic of forced displacement? https://www.thenewhumanitarian.org/opinion/2024/06/11/denial-humanitarian-assistance-death-sentence-myanmar\n",
    "-> Yes, this article is related to forced displacement. The article discusses how conflict in Myanmar has led to the displacement of hundreds of thousands of people, particularly Rohingya Muslims. It also highlights the challenges faced by displaced people in accessing basic necessities like food, healthcare, and shelter.\n",
    "\n",
    "Is this article related closely to the topic of forced displacement? https://www.thenewhumanitarian.org/interview/2024/05/29/arakan-army-responds-rohingya-abuse-accusations-myanmar\n",
    "-> Yes, this article is related closely to the topic of forced displacement. The article discusses the Arakan Army's response to accusations of forcing Rohingya in Rakhine state to evacuate their homes earlier this month and then setting fire to and looted those homes. [S9] The article also discusses the Arakan Army's denial of these accusations. [S10]\n",
    "\n",
    "\n",
    "Is this article related closely to the topic of forced displacement? https://www.thenewhumanitarian.org/news-feature/2024/09/26/inside-effort-help-gaza-university-students-continue-education-studies\n",
    "-> While I aim to be helpful, Google Search may provide a more detailed and accurate response on this topic.\n",
    "-> The article is somewhat related to forced displacement.\n",
    "While the article itself doesn't explicityly mention forced displacement, it does discuss the challenges students face in accessing education after the war [S5, S6, S7]. Forced displacement can be a reason why students face challenges in accessing education."
   ]
  },
  {
   "cell_type": "code",
   "execution_count": 3,
   "metadata": {},
   "outputs": [],
   "source": [
    "from selenium import webdriver\n",
    "from selenium.webdriver.chrome.service import Service\n",
    "from selenium.webdriver.common.by import By\n",
    "import requests\n",
    "from bs4 import BeautifulSoup\n",
    "import pymongo\n"
   ]
  },
  {
   "cell_type": "code",
   "execution_count": 4,
   "metadata": {},
   "outputs": [],
   "source": [
    "# url = \"https://www.thenewhumanitarian.org/news-feature/2024/09/26/inside-effort-help-gaza-university-students-continue-education-studies\"\n",
    "url = 'https://www.thenewhumanitarian.org/news-feature/2025/03/06/gaza-strip-israel-aid-blockade-deeper-humanitarian-crisis'\n"
   ]
  },
  {
   "cell_type": "code",
   "execution_count": 5,
   "metadata": {},
   "outputs": [],
   "source": [
    "#https://www.zenrows.com/blog/python-requests-proxy#perform-requests\n",
    "proxy_addresses = {\n",
    "    'http': 'http://46.47.197.210:3128',\n",
    "    'https': 'http://35.198.189.129:8080'\n",
    "}\n",
    "headers = {\n",
    "    \"User-Agent\": \"Mozilla/5.0 (Windows NT 10.0; Win64; x64) AppleWebKit/537.36 (KHTML, like Gecko) Chrome/129.0.0.0 Safari/537.36\",\n",
    "}"
   ]
  },
  {
   "cell_type": "code",
   "execution_count": 6,
   "metadata": {},
   "outputs": [],
   "source": [
    "# list_url = 'https://www.thenewhumanitarian.org/migration?page=0'\n",
    "# response = requests.get(list_url, headers=headers) #-> this is only get source of javascript\n",
    "# print(response.content)"
   ]
  },
  {
   "cell_type": "code",
   "execution_count": 7,
   "metadata": {},
   "outputs": [],
   "source": [
    "db_client = pymongo.MongoClient('mongodb://localhost:27017')\n",
    "collections = db_client['db_migration']\n",
    "tb_article = collections['tb_article']"
   ]
  },
  {
   "cell_type": "code",
   "execution_count": 8,
   "metadata": {},
   "outputs": [],
   "source": [
    "def upsert_article_meta(article_detail):\n",
    "        db_article = tb_article.find_one({'url': article_detail['url']})\n",
    "        if db_article is None:\n",
    "            #insert\n",
    "            tb_article.insert_one(article_detail)\n",
    "            # print(\"Inserted +++++++++++ article: \" + article_detail['title'])\n",
    "        else:\n",
    "            #update\n",
    "            tb_article.update_one({'url': article_detail['url']}, {'$set': article_detail})\n",
    "            # print(\"Updated ............ article: \" + article_detail['title'])"
   ]
  },
  {
   "cell_type": "code",
   "execution_count": 22,
   "metadata": {},
   "outputs": [],
   "source": [
    "\n",
    "def scrape_text_data(url):\n",
    "    try:\n",
    "        # Set up Chrome WebDriver\n",
    "        service = Service('../chromedriver') # or geckodriver for firefox\n",
    "        options = webdriver.ChromeOptions()\n",
    "        options.add_argument('headless')\n",
    "        options.add_argument(\"disable-gpu\")\n",
    "        # options.add_argument(\"--window-size=0,0\")\n",
    "        driver = webdriver.Chrome(service=service, options=options) # or webdriver.Firefox(service=service)\n",
    "\n",
    "        # Navigate to the webpage\n",
    "        driver.get(url)\n",
    "        # driver.minimize_window()\n",
    "        # driver.set_window_size(1, 1)\n",
    "\n",
    "        # Wait for JavaScript to load (adjust time as needed)\n",
    "        driver.implicitly_wait(10)  # Waits up to 10 seconds for elements to appear\n",
    "\n",
    "        # Get the rendered HTML\n",
    "        html = driver.page_source\n",
    "\n",
    "        # Close the browser\n",
    "        driver.quit()\n",
    "\n",
    "        # Parse the HTML with BeautifulSoup\n",
    "        soup = BeautifulSoup(html, \"html.parser\")\n",
    "\n",
    "        return soup\n",
    "    except:\n",
    "        print('Error when scraping webpage')\n",
    "        return ''"
   ]
  },
  {
   "cell_type": "code",
   "execution_count": 10,
   "metadata": {},
   "outputs": [],
   "source": [
    "#There may have different content type\n",
    "#1: normal article: (https://www.thenewhumanitarian.org/opinion/2025/02/04/how-europe-can-escape-migration-deterrence-trap)\n",
    "#2: report article: (https://www.thenewhumanitarian.org/analysis/2025/01/07/trends-will-spur-humanitarian-needs-2025)\n",
    "def extract_content(soup):\n",
    "    content = ''\n",
    "    #type 1\n",
    "    items = soup.find_all('li', attrs={'class': 'field-name-body flow'})\n",
    "    no_of_paragraphs = len(items)\n",
    "    for i in range(0, no_of_paragraphs):\n",
    "        if i == no_of_paragraphs -1:\n",
    "            #this is the last item, we need to check whether it is note or not (https://www.thenewhumanitarian.org/opinion/2025/02/04/how-europe-can-escape-migration-deterrence-trap)\n",
    "            em_tag = items[i].find('em')\n",
    "            if em_tag is not None:\n",
    "                break   #do not include this paragraph in the final content\n",
    "        content += items[i].text.strip()\n",
    "\n",
    "    return content"
   ]
  },
  {
   "cell_type": "code",
   "execution_count": null,
   "metadata": {},
   "outputs": [
    {
     "name": "stdout",
     "output_type": "stream",
     "text": [
      "Finish scraping page: 0\n",
      "Finish scraping page: 1\n",
      "Finish scraping page: 2\n",
      "Finish scraping page: 3\n",
      "Finish scraping page: 4\n",
      "Finish scraping page: 5\n",
      "Finish scraping page: 6\n",
      "Finish scraping page: 7\n",
      "Finish scraping page: 8\n",
      "Finish scraping page: 9\n",
      "Finish scraping page: 10\n",
      "Finish scraping page: 11\n"
     ]
    }
   ],
   "source": [
    "#get list of url in page\n",
    "list_url = 'https://www.thenewhumanitarian.org/migration?page=0'\n",
    "max_index = 16000   #thenewhumanitarian.org\n",
    "max_pages = 1000    #assuming we have 1000 pages\n",
    "for i in range(0, max_pages):\n",
    "    list_url = 'https://www.thenewhumanitarian.org/migration?page=' + str(i)\n",
    "    soup = scrape_text_data(list_url)\n",
    "    if soup == '':\n",
    "        print('Error when scraping webpage: ' + list_url)\n",
    "    else:   \n",
    "        items = soup.find_all('li', attrs={'class': 'teaser-list__item'})\n",
    "        long_text = ''\n",
    "        for item in items:\n",
    "            article_detail = {\n",
    "                'category': item.find('li', attrs={'class': 'meta-list__item meta-list__item--theme'}).text,\n",
    "                'date': item.find('span', attrs={'class': 'date--long'})['content'],\n",
    "                'url': item.find('a')['href'],\n",
    "                'title': item.find('h3', attrs={'class': 'teaser__title'}).text.strip(),\n",
    "                'content': '',\n",
    "                'len_content': 0,\n",
    "                'is_scraped': 0\n",
    "            }\n",
    "            #upsert db\n",
    "            upsert_article_meta(article_detail)\n",
    "    print('Finish scraping page: ' + str(i))\n",
    "            "
   ]
  },
  {
   "cell_type": "code",
   "execution_count": null,
   "metadata": {},
   "outputs": [],
   "source": []
  }
 ],
 "metadata": {
  "kernelspec": {
   "display_name": "3.9.10",
   "language": "python",
   "name": "python3"
  },
  "language_info": {
   "codemirror_mode": {
    "name": "ipython",
    "version": 3
   },
   "file_extension": ".py",
   "mimetype": "text/x-python",
   "name": "python",
   "nbconvert_exporter": "python",
   "pygments_lexer": "ipython3",
   "version": "3.9.10"
  }
 },
 "nbformat": 4,
 "nbformat_minor": 2
}
