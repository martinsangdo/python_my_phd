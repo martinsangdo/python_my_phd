{
 "cells": [
  {
   "cell_type": "code",
   "execution_count": null,
   "metadata": {},
   "outputs": [],
   "source": [
    "#scrape articles from multiple sources\n",
    "#can use free scraping API free online?"
   ]
  },
  {
   "cell_type": "markdown",
   "metadata": {},
   "source": [
    "1. https://www.thenewhumanitarian.org/\n",
    "https://www.thenewhumanitarian.org/rss/all.xml\n",
    "-> ok\n",
    "2. \n",
    "\n"
   ]
  },
  {
   "cell_type": "markdown",
   "metadata": {},
   "source": [
    "Asking Gemini: is this article related closely to the topic forced displacement? https://www.thenewhumanitarian.org/film/why-are-honduran-farmers-being-forced-urban-gang-areas -> this is only video\n",
    "\n",
    "-> Yes, this article is related closely to the topic forced displacement. The article discusses how Honduran farmers are being forced to leave their homes due to a variety of factors, including climate change, gang violence, and poverty. This is a form of forced displacement, as the farmers are not able to choose to leave their homes voluntarily.\n",
    "\n",
    "Is this article related closely to the topic of forced displacement? https://www.thenewhumanitarian.org/opinion/first-person/2024/02/20/sudan-war-sudanese-journalist-describes-horror-she-cannot-cover\n",
    "-> No, this article is not related closely to the topic of forced displacement, according to the article. Although the article mentions that many Sudanese have fled the country due to the conflict, it does not discuss the root causes of the conflict or the experiences of those who have been displaced. Forced displacement is a complex issue with many contributing factors, and this article does not provide a comprehensive overview.\n",
    "\n",
    "Is this article related closely to the topic of forced displacement? https://www.thenewhumanitarian.org/opinion/2024/06/11/denial-humanitarian-assistance-death-sentence-myanmar\n",
    "-> Yes, this article is related to forced displacement. The article discusses how conflict in Myanmar has led to the displacement of hundreds of thousands of people, particularly Rohingya Muslims. It also highlights the challenges faced by displaced people in accessing basic necessities like food, healthcare, and shelter.\n",
    "\n",
    "Is this article related closely to the topic of forced displacement? https://www.thenewhumanitarian.org/interview/2024/05/29/arakan-army-responds-rohingya-abuse-accusations-myanmar\n",
    "-> Yes, this article is related closely to the topic of forced displacement. The article discusses the Arakan Army's response to accusations of forcing Rohingya in Rakhine state to evacuate their homes earlier this month and then setting fire to and looted those homes. [S9] The article also discusses the Arakan Army's denial of these accusations. [S10]\n",
    "\n",
    "\n",
    "Is this article related closely to the topic of forced displacement? https://www.thenewhumanitarian.org/news-feature/2024/09/26/inside-effort-help-gaza-university-students-continue-education-studies\n",
    "-> While I aim to be helpful, Google Search may provide a more detailed and accurate response on this topic.\n",
    "-> The article is somewhat related to forced displacement.\n",
    "While the article itself doesn't explicityly mention forced displacement, it does discuss the challenges students face in accessing education after the war [S5, S6, S7]. Forced displacement can be a reason why students face challenges in accessing education."
   ]
  },
  {
   "cell_type": "code",
   "execution_count": 1,
   "metadata": {},
   "outputs": [],
   "source": [
    "import requests\n",
    "from bs4 import BeautifulSoup"
   ]
  },
  {
   "cell_type": "code",
   "execution_count": 2,
   "metadata": {},
   "outputs": [],
   "source": [
    "url = \"https://www.thenewhumanitarian.org/news-feature/2024/09/26/inside-effort-help-gaza-university-students-continue-education-studies\"\n"
   ]
  },
  {
   "cell_type": "code",
   "execution_count": 12,
   "metadata": {},
   "outputs": [],
   "source": [
    "#https://www.zenrows.com/blog/python-requests-proxy#perform-requests\n",
    "proxy_addresses = {\n",
    "    'http': 'http://46.47.197.210:3128',\n",
    "    'https': 'http://35.198.189.129:8080'\n",
    "}"
   ]
  },
  {
   "cell_type": "code",
   "execution_count": 14,
   "metadata": {},
   "outputs": [],
   "source": [
    "headers = {\n",
    "    \"User-Agent\": \"Mozilla/5.0 (Windows NT 10.0; Win64; x64) AppleWebKit/537.36 (KHTML, like Gecko) Chrome/129.0.0.0 Safari/537.36\",\n",
    "}"
   ]
  },
  {
   "cell_type": "code",
   "execution_count": 15,
   "metadata": {},
   "outputs": [],
   "source": [
    "response = requests.get(url, headers=headers)\n",
    "\n",
    "if response.status_code == 200:\n",
    "    # Successful request\n",
    "    soup = BeautifulSoup(response.content, 'html.parser')\n",
    "else:\n",
    "    print(response)"
   ]
  },
  {
   "cell_type": "code",
   "execution_count": 19,
   "metadata": {},
   "outputs": [
    {
     "name": "stdout",
     "output_type": "stream",
     "text": [
      "\n",
      "Just as in many other parts of the world, September usually marks the start of a new academic year at universities in the Gaza Strip. But tens of thousands of higher education students are unable to continue their studies for the second year in a row due to Israel’s ongoing war in the enclave.\n",
      "Along with every other major social institution, Gaza’s higher education system has been decimated by the war. Amid the devastation, however, a number of initiatives are attempting to make it possible for university students to continue pursuing their degrees, against all odds.\n",
      "The damage to Gaza’s education system is at all levels. More than 625,000 school-aged children are also at risk of missing a second year of education and becoming “a lost generation”, according to the UN.\n",
      "Nearly 93% of school buildings have been damaged or destroyed, and a significant number have been turned into shelters to house the 1.9 million people (about 90% of the population) who have been displaced from their homes.\n",
      "As of mid-September, more than 10,000 school-aged children and over 400 educational staff had been killed in Israel’s campaign, according to the Palestinian Ministry of Education and Higher Education.\n",
      "When it comes to universities specifically, all 12 in Gaza have been badly damaged or wholly destroyed. Over 650 university students have been killed as well as more than 110 faculty, according to the ministry.\n",
      "At the end of last school year, around 39,000 students were unable to take their official 12th grade exams, forcing an indefinite pause on their aspirations for higher education.\n",
      "Palestinians living under Israeli occupation have long placed a high level of cultural importance on education. “People value their education, because it’s the only hope for us,” Saida Affouneh, dean of the faculty of education at An-Najah University in the West Bank, told The New Humanitarian.\n",
      "In February this year, Affouneh helped launch the Technical Education Support Initiative (TESI), which aims to provide university students in Gaza access to online, for-credit courses to continue their studies.\n",
      "“The idea is not to replace and take over Gaza universities; it is to help them build,” said Christine Habbard, a professor at the University of Lille in France who leads Academic Solidarity with Palestine, another support initiative.\n",
      "Online learning amid war\n",
      "Inspired to apply methods of online learning from the pandemic, Habbard founded Academic Solidarity with Palestine, which has since partnered with TESI and with Gazan universities to staff courses with professors and experts from around the world.\n",
      "Over 3,500 professors and graduate students have registered to teach courses ranging from computer science and veterinary medicine to literary translation and private international law, according to Habbard.\n",
      "Affouneh, who has a doctorate in emergency education and specialises in online learning, said nearly 50,000 university students have since expressed interest in joining the initiative – out of around 88,000 in Gaza.\n",
      "Despite the overwhelming response, the initiative was only able to take on 3,000 students during its first phase. A little over half were able to complete the spring term. Of those who didn’t finish, many had their studies disrupted by repeated displacements and a lack of internet access.\n",
      "For those able to participate, the initiative has given them a “sense of normality, it gives them hope… that tomorrow will be better”, Affouneh said, adding that knowing there is a network of educators working to support their education is also a reminder for the students that they are not alone.\n",
      "But the hope students get from being able to continue their education is constantly being challenged by Gaza’s bitter reality. In July, one of the students participating in TESI, Lamees Abed, was killed in an Israeli airstrike along with her son. Her two-year-old daughter was injured.\n",
      "“It is very challenging, very changeable, unstable, but… we are not going to stop.”\n",
      "\n",
      "Abed, who was one of Affouneh’s students, had been displaced several times and had to walk three to four hours every day to access the internet to attend her classes. Still, she “insisted on continuing her education”, Academic Solidarity with Palestine wrote in a post on X (formerly Twitter).\n",
      "“It is very challenging, very changeable, unstable, but… we are not going to stop,” said Affouneh, who believes teaching just one student is a success story. “We will continue to support the students, whatever happens.” \n",
      "Medical students on the front lines \n",
      "Finding ways for medical students to continue their education has been a particularly pressing priority.\n",
      "Like all other universities, teaching at Gaza’s two medical colleges – Al-Azhar University and the Islamic University of Gaza – was suspended after 7 October. And the campuses of both universities were destroyed during the early weeks of the war. But students recognised that their skills – even if not fully formed – were desperately needed, as Gaza’s medical system came under attack and strained under an enormous patient load.\n",
      "One of those students was Tareq Abdel Jawwad, 23, a fifth-year medical student at Al-Azhar. With his lectures and clinical rotations cancelled, Jawwad began to volunteer at Al-Aqsa Martyrs Hospital in central Gaza. He would work for three to four days at a time in the hospital before braving a dangerous journey home to sleep.\n",
      "“The hospital was filled with patients on the floor… I didn’t have a place to sleep,” he said on a call with The New Humanitarian, adding that he would occasionally rest by sleeping on a metal chair for a few hours.\n",
      "Jawwad, who is now outside of Gaza, worked over 800 hours in his 90 days as a hospital volunteer. The war injuries and dismembered bodies of people who had been killed in Israeli airstrikes were gruesome. “It can be traumatic… The students are not all prepared for this,” he said, adding, however, that he had learned a lot that he never would have done from just studying books.\n",
      "Jawwad now leads the student engagement committee of an initiative called Gaza Educate Medics, which helps Gazan medical students continue their education. Launched in June with the backing of the medical college deans from Al-Azhar and the Islamic University, the scheme aims to help students fulfil degree requirements by providing both online medical teaching and clinical placements in hospitals in Gaza or outside of Palestine – for those who have been able to leave – in countries such as South Africa and Norway.\n",
      "Gaza Educate Medics has 2,101 students registered and is fundraising to pay for their education as well as for the salaries of local staff who are still able to teach, according to the head of the initiative, Mahmoud Lubani, a cardiothoracic surgeon based in the UK.\n",
      "Students also need laptops, reliable internet access, money for transportation to hospitals, and safe places to study and attend lectures – all things that are difficult if not nearly impossible to come by in Gaza. Providing at least technology and transportation essentials to students, however, is relatively inexpensive. Lubani estimates the cost to be about $300,000 per month – equivalent to about $150 per student. “How cheap is that?” he said.\n",
      "The aim, according to Lubani, is not just to help prop up Gaza’s war-battered medical system now but also to prepare doctors for the future. When the end of this war finally comes, there will be a tremendous need for them, he said. “They’ll be looking after the chronic diseases, the sick people [who] have been neglected all this time,” he added. “We can’t have a vacuum where Gaza does not produce enough doctors.”\n",
      "In early June, an in-person meeting was held at the European Hospital in Khan Younis for 70 final-year students from the Islamic University to mark the first day of clinical teaching. Every single student showed up.\n",
      "“Many of them have lost relatives, most of them have lost their home, and many of them are hungry, and they still made it,” said Hibah Osman, a professor of palliative care at Harvard University who chairs the initiative’s international teaching committee.\n",
      "“One-hundred percent attendance, you don’t get that in Harvard. You don’t get that in many medical schools,” added Lubani.\n",
      "Yusuf Hammad, a fifth-year student doing clinical rotations at Al-Aqsa with the programme’s support, said he and his classmates stand on a hospital balcony for their lectures – there is no space anywhere else. Up to 17 students will stand for an hour or two in what Hammad described as a “tight” squeeze and “really miserable conditions”, speaking to The New Humanitarian via video call from central Gaza.\n",
      "The head of the emergency department where Hammad is working recently told him that, if there hadn’t been a war, he would have been his examiner this year. But instead, they now find themselves working side-by-side.\n",
      "‘We won’t let them down’\n",
      "Majd al-Kurd, a 24-year-old lecturer in English at the Islamic University, charges his phone at a neighbour’s house and pays the equivalent of about $1 an hour to access a mobile hotspot, a practice that he says is common in northern Gaza, where those with internet access provide the service for a fee.\n",
      "The rate is about four times what it cost before the war for a day's worth of internet, and it is exorbitantly high for a population largely forced into unemployment by the war. But al-Kurd pays it so he can continue to share lectures and communicate with his students via the education platform Moodle and Facebook. Continuing to teach, he said, is a duty that he proudly performs for free.\n",
      "“A generation of illiterate people is the last thing we want to see here in Gaza.”\n",
      "\n",
      "“The university where I worked has been completely destroyed, and even the [small English teaching] centre where I worked was burned down,” he told The New Humanitarian via text message. “More than half of my students from before 7 October are now unable to continue their education.”\n",
      "Some of al-Kurd’s students have been killed and others are displaced, living in tents, injured, and malnourished. Al-Kurd himself said he has lost over 120 family members during the war.\n",
      "Two days after speaking with The New Humanitarian, he narrowly escaped death when an airstrike hit Hassan Salama school in Gaza City. He had been there just 10 minutes before the strike to collect bread for his family.\n",
      "That is the reality of everyday life in Gaza. “You might find yourself taking your exam and an airstrike happens next to you, or your internet connection may be cut off and you’ll lose your mind just waiting for it to come back,” Jenin Alassar wrote in a message to The New Humanitarian.\n",
      "Alassar is a 22-year-old English language and translation student at Al-Azhar University who wrote her mid-terms in July while displaced in Nuseirat refugee camp. One week before her final exams were due to take place, at the beginning of September, Alassar contracted hepatitis A.\n",
      "“I'm getting better everyday, but I'm still too tired to do stuff normally – eating, house chores, studying, etc,” she wrote in a text message at the time. “My exams are in two days, and I haven't started studying yet.”\n",
      "For Alassar, who is in the final year of her studies, abandoning her education is not an option. “A generation of illiterate people is the last thing we want to see here in Gaza,” she said. \n",
      "Her determination is echoed in photos posted online from other students. One shows a student writing his thesis from a partially destroyed home; Another shows a student defending his master’s thesis from a tent in Rafah. \n",
      "Beyond providing these students with hope and purpose in the face of a war that threatens their lives as well as their right to learn, Affouneh says their education is essential for the future. “Without education, peace will never be there anywhere in this world,” she said. \n",
      "The educators helping to create opportunities for students in Gaza to study during the war are determined to continue to help. “It’s part of showing the resilience of Palestinian people and Palestinian universities,” said Habbard, who leads Academic Solidarity for Palestine.\n",
      "“We won’t let them down, and we will make sure students can resume their studies,” she said. “We will be there until we are no longer needed.”\n",
      "Edited by Eric Reidy.\n",
      "\n",
      "\n",
      "Get the day’s top headlines in your inbox every morning\n",
      "Starting at just $5 a month, you can become a member of The New Humanitarian and receive our premium newsletter, DAWNS Digest.\n",
      "DAWNS Digest has been the trusted essential morning read for global aid and foreign policy professionals for more than 10 years.\n",
      "Government, media, global governance organisations, NGOs, academics, and more subscribe to DAWNS to receive the day’s top global headlines of news and analysis in their inboxes every weekday morning.\n",
      "It’s the perfect way to start your day.\n",
      "Become a member of The New Humanitarian today and you’ll automatically be subscribed to DAWNS Digest – free of charge.\n",
      "\n"
     ]
    }
   ],
   "source": [
    "paragraphs = soup.find_all('div', attrs={'class': 'field-name-body flow'})\n",
    "for paragraph in paragraphs:\n",
    "    print(paragraph.text)\n",
    "\n",
    "# Example: Extract specific information based on tags and attributes\n",
    "#title = soup.find('title').text\n",
    "#print(title)"
   ]
  },
  {
   "cell_type": "code",
   "execution_count": null,
   "metadata": {},
   "outputs": [],
   "source": []
  }
 ],
 "metadata": {
  "kernelspec": {
   "display_name": "Python 3",
   "language": "python",
   "name": "python3"
  },
  "language_info": {
   "codemirror_mode": {
    "name": "ipython",
    "version": 3
   },
   "file_extension": ".py",
   "mimetype": "text/x-python",
   "name": "python",
   "nbconvert_exporter": "python",
   "pygments_lexer": "ipython3",
   "version": "3.9.6"
  }
 },
 "nbformat": 4,
 "nbformat_minor": 2
}
