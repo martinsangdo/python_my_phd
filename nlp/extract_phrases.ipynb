{
 "cells": [
  {
   "cell_type": "code",
   "execution_count": 1,
   "metadata": {},
   "outputs": [],
   "source": [
    "import requests"
   ]
  },
  {
   "cell_type": "code",
   "execution_count": 2,
   "metadata": {},
   "outputs": [],
   "source": [
    "#Ref: https://www.kaggle.com/code/sanabdriss/nlp-extract-skills-from-job-descriptions/notebook"
   ]
  },
  {
   "cell_type": "code",
   "execution_count": 3,
   "metadata": {},
   "outputs": [],
   "source": [
    "def read_entire_file(filename):\n",
    "  with open(filename, 'r') as file:\n",
    "    content = file.read()\n",
    "    return content"
   ]
  },
  {
   "cell_type": "code",
   "execution_count": 46,
   "metadata": {},
   "outputs": [
    {
     "name": "stdout",
     "output_type": "stream",
     "text": [
      "One of the biggest migration developments of this year happened with only weeks left to spare: After years of wrangling, EU countries finally came to an agreement on 20 December on a host of policies to overhaul the bloc’s approach to migration and asylum.\n",
      "\n",
      "The New Pact on Migration and Asylum – first introduced in 2020 – still needs to be formally ratified, which is expected to happen in the new year. The policies it contains will determine: how asylum claims are assessed at the EU’s external border; what happens to people whose claims are accepted or rejected; how EU countries share the responsibility for hosting asylum seekers, and more.\n",
      "\n",
      "EU countries are celebrating the agreement as a major breakthrough ahead of bloc-wide elections next summer, as inflamed discourse about migration continues to fuel a rightward shift in European politics. But human rights groups are warning that the new approach undermines the right to seek asylum and will likely lead to even greater human suffering at the EU’s external borders. \n",
      "\n",
      "“There was a clear need for a reform and overhaul of the system, and an EU-wide adopted Migration and Asylum Pact could help in doing that… But there are a lot of concerns with the current Pact,” Bram Frouws, director of the Mixed Migration Centre (MMC), which conducts research on migration to inform policymakers, told The New Humanitarian.\n",
      "\n",
      "Frouws recently sat down with The New Humanitarian for a conversation about migration and forced displacement developments and trends in the past year. One of the topics that came up was the significant gap between what research evidence suggests would be a humane and sustainable way to manage migration and the debates that drive the migration policies that are actually adopted. \n",
      "\n",
      "“Quite often you have policymakers also admitting and knowing, basically, that what they're doing might not be in line with the evidence and might not be effective,” Frouws said. “But there's also political reality out there that they simply have to take into account.”\n",
      "\n",
      "Speaking of the EU’s new migration pact, he said: “This could very well be another example of migration and asylum policies being adopted that are unlikely to work.” \n",
      "\n",
      "The New Humanitarian’s wide-ranging conversation below with Frouws also covers: the importance of correcting misperceptions about climate migration and how many people migrate from the Global South to the the Global North; the MMC’s documentation of the shocking killing of Ethiopian asylum seekers and migrants in Yemen by Saudi Arabian border guards; the dramatic rise in people crossing the Darién Gap between Colombia and Panama; and other major migration and forced displacement developments around the world.\n",
      "\n",
      "This interview has been edited for length and clarity\n",
      "\n",
      "The New Humanitarian: What are three or four of the top migration developments you’ve been following this year?\n",
      "Bram Frouws: First of all Sudan, the war that started in April, and the fact that we're seeing the fastest-growing displacement crisis in the world there at the moment, if we look at both internal displacement within Sudan and cross-border displacement, mainly into neighbouring countries. That's coupled with the complete lack of attention this is getting in international media and international policy debates on migration and displacement. It’s very much an underfunded crisis that’s not getting the attention that it needs. \n",
      "\n",
      "The second one, which is really striking, is the attempt by Europe to reduce departures from Tunisia, the deal the EU tried to strike with Tunisia [in July], and what we saw in the weeks after the deal was signed: The Italian prime minister, Dutch prime minister, and the EU president smiling and shaking hands with the Tunisian president, and then departures actually increasing very significantly. We also saw the treatment of migrants in Tunisia: people being pushed towards Libya, dumped in the desert, and quite a few people dying in the process.\n",
      "\n",
      "A bit linked to that, there has been a significant increase in Mediterranean arrivals to Greece, Italy, and especially the Spanish Canary Islands. The numbers are still not huge, but it’s quite a significant increase compared to the previous year. So, despite all the attempts by the EU to reduce arrivals to the lowest possible number, arrivals are going up.\n",
      "\n",
      "What we’re seeing in the Americas is also quite striking, with a huge increase in the numbers of people passing through the Darién Gap toward Central America. We’re at half a million people – or at least projected to be at half a million – in 2023. If you look a few years back, I think we saw a few thousand people passing through the Darien Gap. In terms of numbers, that’s pretty striking.\n",
      "\n",
      "A very recent and terrible development is what is happening in Gaza. We don’t know exactly how it is going to play out in terms of potential cross-border displacement. But the scale of killing of civilians, the scale of displacement within the Gaza Strip, this is huge. I have no idea how this is going to evolve over the coming weeks or months. I think nobody really knows. But, it’s a really, really terrible situation.\n",
      "\n",
      "The New Humanitarian: How do you make sense of the fact that the US and the EU have been really trying to reduce arrivals but the numbers have been going up in both places?\n",
      "Frouws: The EU recently organised an international conference on migrant smuggling where it said that despite the years of investment and actions to fight migrant smuggling, the business is flourishing as never before. When I read that, I thought, “You should replace 'despite’ with ‘because’. It’s the approach that makes smuggling a flourishing business.\n",
      "\n",
      "More generally, we’re not seeing the different elements you need to come up with for a more humane and rational approach to irregular migration. What we’re seeing is countries trying to address elements of it. They want to reduce migration and fight smuggling, so they increase border security and try to address the root causes of migration. But they only address some of the reasons why people want to leave their countries – insofar as you can even do that properly – and they ignore the fact that people are coming to the US and Europe because there are jobs for migrants and the economies are asking for migrants.\n",
      "\n",
      "Migration will continue as long as there is demand for migrant labour, and there are good reasons in many of the places where people are coming from to leave their countries. Migration will simply continue. You can build walls, you can build fences, you can try to enforce all kinds of border security, but [asylum seekers and migrants] will find ways around it. And that is exactly what makes the smuggling business flourish as it is.\n",
      "\n",
      "The realisation is probably there, but I think there simply isn’t the political will or the courage to really make a change.\n",
      "\n",
      "The New Humanitarian: The Mixed Migration Review (the MMC’s flagship publication) this year had a strong focus on South-South migration. Why did you think it was important to focus on that topic now?\n",
      "Frouws: If you ask the general public what’s the biggest or most important part of migration, they would probably say it’s South-to-North migration, and more importantly South-to-North irregular migration. But it’s actually such a small phenomenon.\n",
      "\n",
      "Most migration takes place within regions, and actually, most migration is legal. Also, most migration to Europe is legal. We’re looking at a few hundred thousand irregular migrants and more than two million regular migrants coming to the European Union every year.\n",
      "\n",
      "There’s such a distorted picture and portrayal of migration that is really feeding into this general feeling that migration is out of control – that our leaders are not able to control it. It’s probably a helpful narrative for some politicians who gain votes because of the fear of migration, so they have an interest in keeping the narrative. But I think it’s not in the interest of good migration governance.\n",
      "\n",
      "So, we really felt – and I’ve seen you doing the same thing in The New Humanitarian with this new series on South-South migration – that it’s so important for there to be a more balanced, more nuanced portrayal of actual migration dynamics around the world, to fight back this idea that all migration is South-to-North irregular migration.\n",
      "\n",
      "It’s also important to look at how migration is dealt with in other places in the world. I’m not saying everything is better elsewhere and that you should only put the blame on Europe and the US for harmful migration policies. I think we’re certainly seeing a lot of issues in the Global South as well with xenophobic and anti-foreigner sentiments, in Tunisia, Kenya, or South Africa, for example. But there are certainly approaches we can learn from the Global South as well.\n",
      "\n",
      "The New Humanitarian: The Mixed Migration Centre was one of the first organisations to publicise evidence showing that Saudi Arabian guards along the border with Yemen were deliberately killing Ethiopian migrants. Can you explain what was happening, why it was so shocking, and where the situation stands now?\n",
      "Frouws: This has been the most shocking piece of research we have worked on. We see migrants dying on land and sea migration routes all over the world. And I think in many cases we can say this is related to state policies or neglect or delayed rescue. But this was a whole different level. This deliberate killing of migrants by state officials is something we haven’t seen before.\n",
      "\n",
      "We did a bigger report on the whole eastern route from Ethiopia to Saudi Arabia through Yemen. We got some signals during the research about what was happening at the border. So, after we published it, we started digging deeper and received more and more reports on what was happening at the border.\n",
      "\n",
      "More and more information came our way that people were deliberately being killed and shot at by snipers and hit by artillery from Saudi Arabia while trying to cross the border between Yemen and Saudi Arabia. We came up with numbers of almost 1,000 people being killed in 2022 and killings continuing into 2023 with hundreds of people.\n",
      "\n",
      "After we received that information, we interviewed witnesses and returnees who were back in Ethiopia who had witnessed people around them being killed. All of them had stories of people being killed and had also seen dead bodies.\n",
      "\n",
      "When we published it, it got a little bit of attention. We had coordinated with Human Rights Watch a bit and knew they were coming out with a much bigger report a few months later. When Human Rights Watch published their report, it got even more attention in the US and in Germany, because those were two of the countries that have been involved in supporting Saudi border guards – training them, providing equipment. But it also faded away quite quickly.\n",
      "\n",
      "There are some investigations still going on. Of course, Saudi Arabia denied it all. The Ethiopian government responded also, questioning the allegations a little bit and saying they would do their own investigation together with Saudi Arabia, which was not a statement that I felt spoke of very high regard for the safety of their own citizens.\n",
      "\n",
      "The New Humanitarian: Shifting the focus back to the Mediterranean, you mentioned the amount of attention that has been focused on Tunisia, understandably, over the course of this past year with it becoming the main departure location in North Africa. But in the process, it seems like the amount of attention being paid to what's happening in Libya has slipped. What has been happening in Libya this year?\n",
      "Frouws: I think attention definitely slipped quite a bit. As far as we can see, nothing has really changed in the sense that people are still being pulled back to Libya by the Libyan Coast Guard, still brought to detention centres where all the abuse and violence against migrants is taking place. \n",
      "\n",
      "So, in that sense, nothing really changed. But the numbers have been changing, indeed, and the attention really shifted to Tunisia with a much higher number of departures compared to previous years.\n",
      "\n",
      "It's interesting also looking at Sudan, the very high numbers of Sudanese fleeing into Egypt, fleeing into Chad, with very low numbers making the crossing into Libya. I think we're also seeing people choosing other routes, basically. The record numbers that we've been seeing arriving on the Canary Islands, for example, might also be an indication that people are trying to find other routes to the European Union avoiding Libya, and potentially even increasingly avoiding Tunisia.\n",
      "\n",
      "The New Humanitarian: The relationship between the climate crisis and migration is receiving an increasing amount of attention. What do people often misunderstand or get wrong about climate migration? And what would a more accurate and productive conversation about the topic look like?\n",
      "Frouws: There was a lot more attention at COP28, much more than in previous years. Climate mobility is quite high on the agenda, which I think in a way is not a bad thing, because there is a link between climate change, and other environmental factors, and people's mobility.\n",
      "\n",
      "I think the big misunderstanding is that huge numbers of people are going to be moving from [the Global] South to [the Global] North due to climate change. This is where all the nuance gets lost. And I think quite often, not even with bad intentions, but also climate activists feed a little bit into this fear of migration.\n",
      "\n",
      "They want to mobilise climate action, but when they warn of large numbers of migrants that might come to the Global North if we don't address the climate crisis, I think that's a very unhelpful narrative. It's unhelpful because it further increases the fear of migration, and it's also unsubstantiated. There's no evidence that that's going to happen.\n",
      "\n",
      "What we're seeing with these predictions that hundreds of millions, or even a billion people, are going to be displaced due to climate change, is that there is this automatic assumption that they're going to be moving from South to North. But all the evidence points in the direction of this type of mobility mainly being internal within countries, so from rural to urban areas, if people move due to climate change, and at most within regions. \n",
      "\n",
      "People most affected by the effects of climate change don't have the means to afford long distance, very expensive, international migration journeys. Many people don't even want to migrate. They want to stay as close to home as possible. And I think that the people hardest hit by climate change are the ones that cannot even afford to move within their own countries, what we're calling involuntarily immobile people.\n",
      "\n",
      "The New Humanitarian: The Mixed Migration Centre’s mission is to produce evidence-based research and analysis to better inform migration policies. What would the main pillars of an evidence-based approach look like?\n",
      "Frouws: That's a good question. The most important issue is that evidence makes its way into policy. It sounds very simple, but it's simply not happening. I mentioned this smuggling conference. We hear this constant narrative that smugglers lure people into irregular migration journeys.\n",
      "\n",
      "The evidence simply does not support it. We have interviewed 25,000 people over the past year in different parts of the world, asking who or what influences their decision to migrate. And out of all the options that people can choose from in our surveys, smugglers come in in the eighth position. There's seven other types of influence – family, friends, diaspora – that have a bigger influence on people's decision to migrate than smugglers.\n",
      "\n",
      "We have so many examples like that where we simply don't see that the evidence is making it into policy development. \n",
      "\n",
      "Of course, policy development doesn't take place in a void. There are political influences that play a very large role in all of this. And quite often you have policymakers also admitting and knowing basically that what they're doing might not be in line with the evidence and might not be effective. But there's also political reality out there that they simply have to take into account.\n",
      "\n",
      "The New Humanitarian: Why do you think the gap exists between an evidence-based approach and the migration debates and policies we have in, particularly in the Global North? And do you think it can be narrowed or closed? \n",
      "Frouws: That's what I was just saying. I think it's the political reality; the fact that migration remains such a sensitive issue. Of course, migration does come with challenges. I think we should not deny that there are challenges with migration, and especially with irregular migration, but also with integration of migrants into destination countries and societies.\n",
      "\n",
      "So it remains a politically sensitive issue over which you can win or lose elections. And I think that that really makes it difficult to have sort of a level-headed, very rational approach to migration just because it's so sensitive and so politicised.\n",
      "\n",
      "But if you look at some of the narratives we're seeing in some countries that have really appeared tough on migration, at the same time they are bringing in large numbers of migrants. \n",
      "\n",
      "Italy is a good example. Now, the coalition government is planning to bring in 400,000 migrant workers over the next two years because employers in Italy need migrant labour. It's the same in Germany, which is increasingly taking on a tough approach on migration. But also Germany, the coalition government has agreed to bring in a lot of migrant workers. It's the same in Malta. It's even the same in Hungary with Viktor Orbán.\n",
      "\n",
      "So there's also a mismatch there between narratives and what countries are actually doing. \n",
      "\n",
      "The New Humanitarian: In terms of the second part of the question, do you think that gap can be narrowed or closed? \n",
      "Frouws: I think it's going to be narrowed. If we don't think it's going to be narrowed, we should probably close shop as MMC, because it's one of our important objectives. I think it can be narrowed but it will probably never be completely closed. There's always going to be a part of the political spectrum that just benefits from keeping a fear of migration very much alive because it's just going to bring them votes.\n",
      "\n",
      "So I don't think the gap will ever be closed, but I think it can be narrowed by producing good evidence, by being an honest broker. As I wrote for The New Humanitarian in an op-ed last year: We all have an interest in reducing irregular migration. I think that is an entry point to talk to policymakers. Yes, we need to reduce irregular migration because it is in no one's interest for people to move irregularly – even though sometimes it's the only way for people to find safety, so we can't completely close that channel. \n",
      "\n",
      "But in general, irregular migration is where all the abuse and violence takes place. It's where the smugglers generate their profits. It's undermining the rule of law. So I think it is possible to find shared objectives. And once you have shared objectives, I mean, at least you have a path to where you want to end up together. And then, of course, there's still quite a lot of divergence on how to get there.\n",
      "\n",
      "The New Humanitarian: You mentioned the op-ed you wrote last year, recommending five migration solutions. They were: harmonise migration and economic policy, increase regular migration, make safe and dignified returns easier, allow flexibility between asylum and labour migration pathways, and decentralise authority to cities. Have you seen any progress on them in the past year, and is there anything you would add or subtract from the list for next year? \n",
      "Frouws: There hasn’t been as much progress as there should have been, but there has been some on increasing regular migration.\n",
      "\n",
      "I think what the United States is doing with the safe mobility offices in Central and South America is easy to quickly criticise, and there’s definitely challenges, and we’re already hearing criticism: there aren’t going to be sufficient legal channels, and that it’s effectively the end of the right to seek asylum at the US southern border, which I think are very genuine concerns.\n",
      "\n",
      "But setting up safe mobility centres in Costa Rica, Colombia, Guatemala, and there might be a fourth one in Ecuador, where people can apply to access one of four regular and safe migration channels into the United States – and not in small number – I think that is a genuine and a good attempt to create safe migration pathways into the US with the idea that then people would not embark on irregular journeys toward the southern border, with all the risks on those journeys.\n",
      "\n",
      "In a way, that’s what a lot of advocates have been calling for. I think we need to see how it's going to play out, if it's going to be sufficient, if it's going to be accessible for the most vulnerable people, whether it's targeting the right people who were planning to migrate irregularly and then decided to wait and apply. \n",
      "\n",
      "It is still important to uphold the right to seek asylum for spontaneous arrivals at the southern border. But I think the safe mobility centres should be given a chance. So I would say, we're seeing one of the most promising approaches I've seen in a long time. And it's something we would like to look into next year as well and even look at it with a comparative element like could this be something for Europe as well. \n",
      "\n",
      "The issue of returns remains very much stuck still, and it's still very much at the centre of what is blocking a more comprehensive, better approach to migration governance: the fact that countries of origin don't take back their citizens. That remains such a gridlock in the cooperation between destination and origin countries. That really needs to be broken to push things forward. But I'm not seeing a whole lot of progress.\n",
      "\n",
      "The New Humanitarian: And is there anything that you would add or subtract from that list for next year?\n",
      "Frouws: No, I think, I think they're still pretty valid. I still believe this is the way to start reducing irregular migration and to get migration under control in a humane way that sends a signal to populations that migration can be properly governed and brings lots of benefits as well.\n",
      "\n",
      "Maybe one thing I would add is to be a little bit more honest. Again, going back to this issue of labour markets, I mean, show the benefits of migration to point out what migrants bring to societies and to economies. If you truly implement some of the plans that some of these far-right politicians are saying, like cutting migration, stopping all labour migration, closing the borders, I mean you would really destroy economies and people will suffer; all people – also the native population – will suffer.\n",
      "\n",
      "That’s a bit of an idealistic, maybe unrealistic addition, but I think it also helps to calm down things a little bit in the migration debate, which then helps in terms of using evidence to develop better policies.\n"
     ]
    }
   ],
   "source": [
    "#file_path = 'congo_1.txt'\n",
    "file_path = 'sudan_1.txt'\n",
    "text_content = read_entire_file(file_path)\n",
    "print(text_content)"
   ]
  },
  {
   "cell_type": "code",
   "execution_count": null,
   "metadata": {},
   "outputs": [],
   "source": [
    "#todo remove special chars\n"
   ]
  },
  {
   "cell_type": "code",
   "execution_count": null,
   "metadata": {},
   "outputs": [],
   "source": [
    "#Ref: https://medium.com/analytics-vidhya/text-summarization-in-python-using-extractive-method-including-end-to-end-implementation-2688b3fd1c8c"
   ]
  },
  {
   "cell_type": "code",
   "execution_count": 18,
   "metadata": {},
   "outputs": [],
   "source": [
    "import nltk\n",
    "from nltk.corpus import stopwords\n",
    "from nltk.cluster.util import cosine_distance\n",
    "from nltk.tokenize import sent_tokenize\n",
    "import numpy as np\n",
    "import networkx as nx\n",
    "import re\n",
    "\n",
    "nltk.data.path.append(\"/Users/sangdo/nltk_data\")"
   ]
  },
  {
   "cell_type": "code",
   "execution_count": 23,
   "metadata": {},
   "outputs": [
    {
     "name": "stderr",
     "output_type": "stream",
     "text": [
      "[nltk_data] Downloading package punkt_tab to\n",
      "[nltk_data]     /Users/sangdo/nltk_data...\n",
      "[nltk_data]   Unzipping tokenizers/punkt_tab.zip.\n"
     ]
    },
    {
     "data": {
      "text/plain": [
       "True"
      ]
     },
     "execution_count": 23,
     "metadata": {},
     "output_type": "execute_result"
    }
   ],
   "source": [
    "nltk.download('punkt_tab')\n",
    "nltk.download('stopwords') "
   ]
  },
  {
   "cell_type": "code",
   "execution_count": 24,
   "metadata": {},
   "outputs": [],
   "source": [
    "def read_article(text):        \n",
    "  sentences =[]\n",
    "  #nltk.download('punkt')        \n",
    "  sentences = sent_tokenize(text)    \n",
    "  for sentence in sentences:        \n",
    "    sentence.replace(\"[^a-zA-Z0-9]\",\" \")     \n",
    "    return sentences"
   ]
  },
  {
   "cell_type": "code",
   "execution_count": 25,
   "metadata": {},
   "outputs": [],
   "source": [
    "sens = read_article(text_content)"
   ]
  },
  {
   "cell_type": "code",
   "execution_count": 26,
   "metadata": {},
   "outputs": [
    {
     "data": {
      "text/plain": [
       "['Residents of displacement sites in Goma, the largest city in eastern Democratic Republic of the Congo say they are living in constant fear after deadly artillery strikes hit their homes last month, and because of sexual violence and robberies occuring in the camps.',\n",
       " 'Thirty-five civilians were killed on 3 May when shelling hit two camps sheltering people displaced by the two-year conflict between the M23 rebel group – which is supported by neighbouring Rwanda – and DRC’s army, which is backed by local militias, Burundian soldiers, and southern African troops.',\n",
       " 'The M23 and the Rwandan army were blamed for the strike, yet residents said the Congolese military is also responsible because it is operating heavy weapons from positions around the camps, many of which are on the outskirts of town and are close to M23 positions in the surrounding hills.',\n",
       " '“In wanting to destroy [the] heavy weapons, the rebels shoot at populations displaced by war,” said Éric Chiza, a displaced person from the 8th CEPAC camp, which is in the grounds of a local church and is one of the two sites hit last month.',\n",
       " 'Chiza said his brother was badly wounded, several of his friends were killed, and his house was destroyed by the artillery strike.',\n",
       " 'He said residents have asked authorities to move their weapons and positions away from the population.',\n",
       " 'The M23 is led by Congolese Tutsis who say they are fighting because the government broke a 2013 peace accord with the group, and because local Tutsis are at risk from local militias.',\n",
       " 'Yet Rwanda is widely thought to be pulling the strings, using the group to assert influence in eastern DRC.',\n",
       " 'Some 1.5 million people have been displaced by the still-escalating conflict, including 700,000 who have taken shelter in Goma, either with host families or in camps, which The New Humanitarian has reported on extensively during the conflict.',\n",
       " 'Goma residents have set up numerous humanitarian and cultural initiatives to aid people in the camps – and support is also being provided by international relief organisations – yet the sites remain overcrowded and lack basic facilities.',\n",
       " 'The camps and the city itself have also become increasingly militarised, as pro-government forces – including the army, private security contractors, and local militias known as Wazalendo (‘patriots’ in Swahili) – try to halt the M23 advance.',\n",
       " 'Chiara Maugeri, field coordinator in Goma for Médecins Sans Frontières (MSF), said the presence of armed men around and inside the camps has exposed residents to a “very high level of violence”, including sexual violence.',\n",
       " '“Displaced people today find themselves in a situation similar to the one they initially fled,” Maugeri told The New Humanitarian.',\n",
       " '“They are still in total insecurity and have no escape.”\\n\\n‘The fear is still permanent’\\nRashidi Myanitse, who also lives in the 8th CEPAC camp, said his family was struggling even before last month’s deadly shelling.',\n",
       " 'He said finding food was a “headache” and that sleeping in tents was “very complicated”, especially when it rains.',\n",
       " 'Since the shelling, Myanitse, who escaped his village of Kimoka in February, said he could not put into words how he felt on a daily basis.',\n",
       " 'He said the artillery strike severely wounded his older sister and killed three of her children.',\n",
       " '“At home I lived well and ate well, but since I fled the war to come and live in this camp I have suffered with my family,” Myanitse said, adding: “This is not the first nor the last time [there have been attacks].',\n",
       " 'These rebels continue to drop bombs to this day.”\\n\\nKanari Osse, another resident of the 8th CEPAC camp, said he lost his brother in the shelling.',\n",
       " 'He said he survived only because he was out working as a day labourer in town.',\n",
       " '“The displaced are still the target, and this danger has not yet been ruled out.”\\n\\n“Since that day, I have lived with fear,” said Osse, who also arrived at the camp in February.',\n",
       " '“I spend my time worrying because I know that at any moment another bomb could explode.”\\n\\nChristophe Muissa, a human rights defender and activist from Filimbi, a citizen movement that advocates for the promotion and protection of human rights, said his group has made recommendations to authorities that they should move the camps or the army positions, but the proposals have not been acted on.',\n",
       " 'Muissa said he even wonders if the Congolese army is deliberately exposing the population as part of a “military strategy” to make the M23 look bad and the state seem empowered in the eyes of the international community.',\n",
       " '“The fear is still permanent because there is no measure to spare this population [and remove] the order to maintain these positions around the camps,” Muissa said.',\n",
       " '“The displaced are still the target, and this danger has not yet been ruled out.”\\n\\nMaugeri of MSF said it is “really important” that the warring parties respect international humanitarian law and “ensure the protection of civilians in urban areas and displaced persons camps”.',\n",
       " '“It is clear that if the fighting and clashes near the sites do not stop, the civilian population and the displaced could be affected again by these attacks, by these bombings,” she said.',\n",
       " 'Robberies, extortion, and sexual violence\\nDisplaced people said armed men affiliated either to the Congolese army or the Wazalendo are also causing major problems in the camps, from assaults on women and girls to robberies and extortion.',\n",
       " 'Given the risks posed by both sides of the conflict, Osse, who lost his brother in the May shelling, said displaced people are currently “doubly threatened”.',\n",
       " '“In this camp, we have patriots and armed people, [and] there are some among them who take advantage, making this camp insecure, even extorting goods from certain displaced people,” he said.',\n",
       " 'Their protection should not be left to armed soldiers, whose presence “arouses a certain fear” among residents.',\n",
       " 'Residents of the nearby Lushagala displacement camp, which was also hit by an artillery strike last month but did not record any fatalities, are facing similar insecurity, according to camp president François Batege Ndayambaje.',\n",
       " 'Ndayambaje said the Lushagala camp has been erected close to the main road from Goma to Sake, which is on the front line of the conflict.',\n",
       " 'He said the military and its allies regularly take the road when heading to the battlefront.',\n",
       " 'Ndayambaje said camp residents have asked for the government to deploy well-trained police officers to secure the camp.',\n",
       " 'He said their protection should not be left to armed soldiers, whose presence “arouses a certain fear” among residents.',\n",
       " 'MSF’s Maugeri said displaced people in the camps are often afraid to move around for fear of being attacked or raped.',\n",
       " 'She said aid groups, including MSF, have also been impacted by the insecurity, and have had to sometimes suspend activities.',\n",
       " 'Maugeri said MSF works in eight camps around Goma, and described humanitarian conditions at the sites as “deplorable”.',\n",
       " 'She said displaced people lack access to sanitation infrastructure, drinking water, food, and shelter.',\n",
       " 'Who is taking responsibility?',\n",
       " 'Muissa, the human rights defender and activist from Filimbi, called on the state to take “responsibility” for the security of people in the camps, and for providing for their basic needs.',\n",
       " '“There have still not been serious measures to secure the displaced people who are victims and represent no threat in this war,” he said.',\n",
       " '“They are neither protagonists nor belligerents in the war.',\n",
       " 'They are just innocents in search of peace and security.”\\n\\nNdayambaje, the president of the Lushagala camp, said he is trying to encourage the population not to despair and to remain perseverant, though he acknowledged how difficult this would be given the conditions and the regular shelling.',\n",
       " '“This fear cannot disappear so easily,” he told The New Humanitarian.',\n",
       " '“The fear will disappear when we have peace and when we are asked to return to our homes where we were before.”']"
      ]
     },
     "execution_count": 26,
     "metadata": {},
     "output_type": "execute_result"
    }
   ],
   "source": [
    "sens"
   ]
  },
  {
   "cell_type": "code",
   "execution_count": 43,
   "metadata": {},
   "outputs": [],
   "source": [
    "def sentence_similarity(sent1, sent2, stopwords=None):    \n",
    "    if stopwords is None:        \n",
    "        stopwords = []        \n",
    "    sent1 = [w.lower() for w in sent1]    \n",
    "    sent2 = [w.lower() for w in sent2]\n",
    "        \n",
    "    all_words = list(set(sent1 + sent2))   \n",
    "     \n",
    "    vector1 = [0] * len(all_words)    \n",
    "    vector2 = [0] * len(all_words)        \n",
    "    #build the vector for the first sentence    \n",
    "    for w in sent1:        \n",
    "        if not w in stopwords:\n",
    "            vector1[all_words.index(w)]+=1                                                             \n",
    "    #build the vector for the second sentence    \n",
    "    for w in sent2:        \n",
    "        if not w in stopwords:            \n",
    "            vector2[all_words.index(w)]+=1 \n",
    "               \n",
    "    return 1-cosine_distance(vector1,vector2)"
   ]
  },
  {
   "cell_type": "code",
   "execution_count": 40,
   "metadata": {},
   "outputs": [],
   "source": [
    "def build_similarity_matrix(sentences, stop_words):\n",
    "    #create an empty similarity matrix\n",
    "    similarity_matrix = np.zeros((len(sentences),len(sentences)))\n",
    "    for idx1 in range(len(sentences)):\n",
    "        for idx2 in range(len(sentences)):\n",
    "            if idx1!=idx2:\n",
    "                similarity_matrix[idx1][idx2] = sentence_similarity(sentences[idx1],sentences[idx2],stop_words)\n",
    "    return similarity_matrix"
   ]
  },
  {
   "cell_type": "code",
   "execution_count": 41,
   "metadata": {},
   "outputs": [],
   "source": [
    "def generate_summary(text,top_n):\n",
    "    #nltk.download('stopwords')    \n",
    "    #nltk.download('punkt')\n",
    "    stop_words = stopwords.words('english')    \n",
    "    summarize_text = []\n",
    "    # Step1: read text and tokenize    \n",
    "    sentences = read_article(text)\n",
    "    # Step2: generate similarity matrix            \n",
    "    sentence_similarity_matrix = build_similarity_matrix(sentences,stop_words)\n",
    "    # Step3: Rank sentences in similarity matrix\n",
    "    sentence_similarity_graph = nx.from_numpy_array(sentence_similarity_matrix)\n",
    "    scores = nx.pagerank(sentence_similarity_graph)\n",
    "    # Step4: sort the rank and place top sentences\n",
    "    ranked_sentences = sorted(((scores[i],s) for i,s in enumerate(sentences)),reverse=True)\n",
    "    \n",
    "    # Step5: get the top n number of sentences based on rank\n",
    "    for i in range(top_n):\n",
    "        summarize_text.append(ranked_sentences[i][1])\n",
    "    # Step6 : output the summarized version\n",
    "    return \" \".join(summarize_text),len(sentences)"
   ]
  },
  {
   "cell_type": "code",
   "execution_count": 47,
   "metadata": {},
   "outputs": [
    {
     "data": {
      "text/plain": [
       "(\"“But there's also political reality out there that they simply have to take into account.”\\n\\nSpeaking of the EU’s new migration pact, he said: “This could very well be another example of migration and asylum policies being adopted that are unlikely to work.” \\n\\nThe New Humanitarian’s wide-ranging conversation below with Frouws also covers: the importance of correcting misperceptions about climate migration and how many people migrate from the Global South to the the Global North; the MMC’s documentation of the shocking killing of Ethiopian asylum seekers and migrants in Yemen by Saudi Arabian border guards; the dramatic rise in people crossing the Darién Gap between Colombia and Panama; and other major migration and forced displacement developments around the world. But setting up safe mobility centres in Costa Rica, Colombia, Guatemala, and there might be a fourth one in Ecuador, where people can apply to access one of four regular and safe migration channels into the United States – and not in small number – I think that is a genuine and a good attempt to create safe migration pathways into the US with the idea that then people would not embark on irregular journeys toward the southern border, with all the risks on those journeys. One of the biggest migration developments of this year happened with only weeks left to spare: After years of wrangling, EU countries finally came to an agreement on 20 December on a host of policies to overhaul the bloc’s approach to migration and asylum. But all the evidence points in the direction of this type of mobility mainly being internal within countries, so from rural to urban areas, if people move due to climate change, and at most within regions. What we're seeing with these predictions that hundreds of millions, or even a billion people, are going to be displaced due to climate change, is that there is this automatic assumption that they're going to be moving from South to North.\",\n",
       " 175)"
      ]
     },
     "execution_count": 47,
     "metadata": {},
     "output_type": "execute_result"
    }
   ],
   "source": [
    "generate_summary(text_content, 5)   #generate summary in 5 sentences"
   ]
  },
  {
   "cell_type": "code",
   "execution_count": 48,
   "metadata": {},
   "outputs": [
    {
     "data": {
      "text/plain": [
       "(\"“But there's also political reality out there that they simply have to take into account.”\\n\\nSpeaking of the EU’s new migration pact, he said: “This could very well be another example of migration and asylum policies being adopted that are unlikely to work.” \\n\\nThe New Humanitarian’s wide-ranging conversation below with Frouws also covers: the importance of correcting misperceptions about climate migration and how many people migrate from the Global South to the the Global North; the MMC’s documentation of the shocking killing of Ethiopian asylum seekers and migrants in Yemen by Saudi Arabian border guards; the dramatic rise in people crossing the Darién Gap between Colombia and Panama; and other major migration and forced displacement developments around the world.\",\n",
       " 175)"
      ]
     },
     "execution_count": 48,
     "metadata": {},
     "output_type": "execute_result"
    }
   ],
   "source": [
    "generate_summary(text_content, 1)"
   ]
  },
  {
   "cell_type": "code",
   "execution_count": null,
   "metadata": {},
   "outputs": [],
   "source": []
  }
 ],
 "metadata": {
  "kernelspec": {
   "display_name": "Python 3",
   "language": "python",
   "name": "python3"
  },
  "language_info": {
   "codemirror_mode": {
    "name": "ipython",
    "version": 3
   },
   "file_extension": ".py",
   "mimetype": "text/x-python",
   "name": "python",
   "nbconvert_exporter": "python",
   "pygments_lexer": "ipython3",
   "version": "3.9.6"
  }
 },
 "nbformat": 4,
 "nbformat_minor": 2
}
