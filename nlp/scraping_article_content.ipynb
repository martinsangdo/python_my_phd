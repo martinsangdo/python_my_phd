{
 "cells": [
  {
   "cell_type": "code",
   "execution_count": 1,
   "metadata": {},
   "outputs": [],
   "source": [
    "from selenium import webdriver\n",
    "from selenium.webdriver.chrome.service import Service\n",
    "from selenium.webdriver.common.by import By\n",
    "import requests\n",
    "from bs4 import BeautifulSoup\n",
    "import pymongo\n",
    "import time\n"
   ]
  },
  {
   "cell_type": "code",
   "execution_count": 2,
   "metadata": {},
   "outputs": [],
   "source": [
    "db_client = pymongo.MongoClient('mongodb://localhost:27017')\n",
    "collections = db_client['db_migration']\n",
    "tb_article = collections['tb_article']"
   ]
  },
  {
   "cell_type": "code",
   "execution_count": 3,
   "metadata": {},
   "outputs": [],
   "source": [
    "DOMAIN_URL = 'https://thenewhumanitarian.org'"
   ]
  },
  {
   "cell_type": "code",
   "execution_count": 4,
   "metadata": {},
   "outputs": [],
   "source": [
    "def scrape_text_data(url):\n",
    "    try:\n",
    "        # Set up Chrome WebDriver\n",
    "        service = Service('../chromedriver') # or geckodriver for firefox\n",
    "        options = webdriver.ChromeOptions()\n",
    "        #options.add_argument('headless')\n",
    "        options.add_argument(\"disable-gpu\")\n",
    "        options.add_argument(\"--window-size=0,0\")\n",
    "        options.add_experimental_option(\"detach\", True)\n",
    "\n",
    "        driver = webdriver.Chrome(service=service, options=options) # or webdriver.Firefox(service=service)\n",
    "\n",
    "        # Navigate to the webpage\n",
    "        driver.get(url)\n",
    "        # driver.minimize_window()\n",
    "        # driver.set_window_size(1, 1)\n",
    "\n",
    "        # Wait for JavaScript to load (adjust time as needed)\n",
    "        driver.implicitly_wait(10)  # Waits up to 10 seconds for elements to appear\n",
    "\n",
    "        # Get the rendered HTML\n",
    "        html = driver.page_source\n",
    "\n",
    "        # Close the browser\n",
    "        driver.quit()\n",
    "\n",
    "        # Parse the HTML with BeautifulSoup\n",
    "        soup = BeautifulSoup(html, \"html.parser\")\n",
    "\n",
    "        return soup\n",
    "    except:\n",
    "        print('Error when scraping webpage')\n",
    "        return ''"
   ]
  },
  {
   "cell_type": "code",
   "execution_count": 5,
   "metadata": {},
   "outputs": [],
   "source": [
    "def upsert_article_meta(article_detail):\n",
    "        db_article = tb_article.find_one({'url': article_detail['url']})\n",
    "        if db_article is None:\n",
    "            #insert\n",
    "            tb_article.insert_one(article_detail)\n",
    "            # print(\"Inserted +++++++++++ article: \" + article_detail['title'])\n",
    "        else:\n",
    "            #update\n",
    "            tb_article.update_one({'url': article_detail['url']}, {'$set': article_detail})\n",
    "            # print(\"Updated ............ article: \" + article_detail['title'])"
   ]
  },
  {
   "cell_type": "code",
   "execution_count": 41,
   "metadata": {},
   "outputs": [],
   "source": [
    "#Our ability to deliver compelling, field-based reporting on humanitarian crises rests on a few key principles: deep expertise, an unwavering commitment to amplifying affected voices, and a belief in the power of independent journalism to drive real change.\\nWe need your help to sustain and expand our work. Your donation will support our unique approach to journalism, helping fund everything from field-based investigations to the innovative storytelling that ensures marginalised voices are heard.\\nPlease consider joining our membership programme. Together, we can continue to make a meaningful impact on how the world responds to crises.\n",
    "def not_contain_special_phrases(text):\n",
    "    return ('Our ability to deliver compelling' not in text) and ('Your donation will support our unique approach to journalism' not in text) and ('joining our membership programme' not in text)"
   ]
  },
  {
   "cell_type": "code",
   "execution_count": 48,
   "metadata": {},
   "outputs": [],
   "source": [
    "#get text in all tags <p>\n",
    "def get_content_in_container(container):\n",
    "    content = ''\n",
    "    items = container.find_all('p')\n",
    "    no_of_paragraphs = len(items)\n",
    "    # print(str(no_of_paragraphs))\n",
    "    if no_of_paragraphs == 0:\n",
    "        items = container.find_all('div')\n",
    "        no_of_paragraphs = len(items)\n",
    "        # print(str(no_of_paragraphs))\n",
    "        if no_of_paragraphs == 0:\n",
    "            items = container.find_all('span')\n",
    "            no_of_paragraphs = len(items)\n",
    "            # print(str(no_of_paragraphs))\n",
    "    for i in range(0, no_of_paragraphs):\n",
    "        if i == no_of_paragraphs - 1:\n",
    "            #this is the last item, we need to check whether it is note or not (https://www.thenewhumanitarian.org/opinion/2025/02/04/how-europe-can-escape-migration-deterrence-trap)\n",
    "            em_tag = items[i].find('em')\n",
    "            if em_tag is not None:\n",
    "                break   #do not include this paragraph in the final content\n",
    "        if (not_contain_special_phrases(items[i].text.strip())):   #remove footnote\n",
    "            content += items[i].text.strip()\n",
    "    if content == '':   #till 0\n",
    "        if len(container.text.strip()) > 100 and not_contain_special_phrases(container.text.strip()):\n",
    "            return container.text.strip()   #get content itself (https://www.thenewhumanitarian.org/analysis/2015/11/27/new-border-regime-balkans-inequitable-and-illegal)\n",
    "    return content"
   ]
  },
  {
   "cell_type": "code",
   "execution_count": null,
   "metadata": {},
   "outputs": [],
   "source": [
    "#There may have different content type\n",
    "#1: normal article: (https://www.thenewhumanitarian.org/opinion/2025/02/04/how-europe-can-escape-migration-deterrence-trap)\n",
    "#2: report article: (https://www.thenewhumanitarian.org/analysis/2025/01/07/trends-will-spur-humanitarian-needs-2025)\n",
    "#3: stories: https://interactive.thenewhumanitarian.org/stories/2022/05/10/us-asylum-darien-gap-cuba-central-america-mexico/\n",
    "#4: text in span: https://www.thenewhumanitarian.org/feature/2017/04/26/preying-disaster-how-human-trafficking-has-spiked-quake-shattered-nepal\n",
    "#5: text in div: https://www.thenewhumanitarian.org/news/2017/04/13/pushed-out-pakistan-war-torn-afghanistan-refugees-are-told-be-patient\n",
    "#6: section: https://thenewhumanitarian.org/2016/06/21/forgotten-conflicts-blue-nile\n",
    "#7: https://thenewhumanitarian.org/news/2015/08/25/photo-feature-race-beat-hungary-s-border-fence\n",
    "def extract_content(soup):\n",
    "    content = ''\n",
    "    #type 1 & 4, 5\n",
    "    article_body = soup.find('div', attrs={'class': 'article__body'})\n",
    "    if article_body is not None:\n",
    "        big_contents = article_body.find_all('div', attrs={'class': 'field-name-body flow'})\n",
    "        for big_content in big_contents:\n",
    "            content += get_content_in_container(big_content)\n",
    "            # print('============')\n",
    "    #type 2\n",
    "    items = soup.find_all('div', attrs={'class': 'advanced-report-content flow'})\n",
    "    no_of_paragraphs = len(items)\n",
    "    #print(str(no_of_paragraphs))\n",
    "    for i in range(0, no_of_paragraphs):\n",
    "        p = items[i].find_all('p')\n",
    "        for j in range(0, len(p)):\n",
    "            content += p[j].text.strip()\n",
    "    #type 3\n",
    "    field_name_bodies = soup.find_all('div', attrs={'class': 'field-name-body'})\n",
    "    if field_name_bodies is not None:\n",
    "        # print(str(len(field_name_bodies)))\n",
    "        for field_name_body in field_name_bodies:\n",
    "            content += get_content_in_container(field_name_body)\n",
    "    #type 6\n",
    "    field_name_bodies = soup.find_all('section', attrs={'class': 'copy left'})\n",
    "    if field_name_bodies is not None:\n",
    "        # print(str(len(field_name_bodies)))\n",
    "        for field_name_body in field_name_bodies:\n",
    "            content += field_name_body.text.strip()\n",
    "    #type 7\n",
    "    field_name_bodies = soup.find_all('div', attrs={'class': 'sqs-html-content'})\n",
    "    if field_name_bodies is not None:\n",
    "        for field_name_body in field_name_bodies:\n",
    "            content += get_content_in_container(field_name_body)\n",
    "    return content"
   ]
  },
  {
   "cell_type": "code",
   "execution_count": 52,
   "metadata": {},
   "outputs": [
    {
     "name": "stdout",
     "output_type": "stream",
     "text": [
      "Finish page: 1 https://thenewhumanitarian.org/feature/2015/10/08/you-ve-been-gone-families-migrants-leave-behind\n",
      "Finish page: 2 https://thenewhumanitarian.org/news/2015/10/16/irin-s-top-picks-wealthy-hungry-and-ghosts-kunduz\n",
      "Finish page: 3 https://thenewhumanitarian.org/feature/2015/10/23/irin-s-top-picks-deadly-journeys-drone-papers-and-ethical-aid-dilemmas\n",
      "Finish page: 4 https://thenewhumanitarian.org/news/2015/10/30/irin-s-top-picks-city-migration-trafficking-ivory-and-cross-border-disasters\n",
      "Finish page: 5 https://thenewhumanitarian.org/analysis/2015/10/09/cross-your-peril-tough-justice-refugees-hungary\n",
      "Finish page: 6 https://thenewhumanitarian.org/news/2015/10/02/irin-s-top-picks-homophobia-kenya-helping-refugees-and-humanitarian-hotlines\n",
      "Finish page: 7 https://thenewhumanitarian.org/analysis/2015/09/21/local-dwarfs-global-serbia-refugee-response\n",
      "Finish page: 8 https://thenewhumanitarian.org/news/2015/09/18/irin-s-top-picks-selling-arms-syria-s-exodus-and-un-whisteblowers\n",
      "Finish page: 9 https://thenewhumanitarian.org/analysis/2015/09/07/how-will-germany-house-all-its-refugees\n",
      "Finish page: 10 https://thenewhumanitarian.org/news/2015/09/04/irin-s-top-picks-cash-aid-changing-faith-and-de-development-gaza\n",
      "Finish page: 11 https://thenewhumanitarian.org/news/2015/09/03/venezuela-crackdown-forces-out-colombian-migrants\n",
      "Finish page: 12 https://thenewhumanitarian.org/analysis/2015/08/25/lost-childhoods-behind-our-chocolate\n",
      "No content in page: https://thenewhumanitarian.org/news/2015/08/25/photo-feature-race-beat-hungary-s-border-fence\n"
     ]
    }
   ],
   "source": [
    "#find article that haven't scraped its content\n",
    "db_articles = tb_article.find({'len_content': 0})\n",
    "index = 0\n",
    "if db_articles is not None:\n",
    "    for db_article in db_articles:\n",
    "        if index < 11000:\n",
    "            url = db_article['url']\n",
    "            soup = scrape_text_data(DOMAIN_URL + url)\n",
    "            if soup == '':\n",
    "                print('Error no soup: ' + DOMAIN_URL + url)\n",
    "                db_article['error'] = 'no soup'\n",
    "                tb_article.update_one({'url': url}, {'$set': db_article})\n",
    "                break\n",
    "            else:\n",
    "                db_article['is_scraped'] = 1\n",
    "                content = extract_content(soup)\n",
    "                if content == '':\n",
    "                    db_article['error'] = 'no content'\n",
    "                    tb_article.update_one({'url': url}, {'$set': db_article})\n",
    "                    print('No content in page: ' + DOMAIN_URL + url)\n",
    "                    break\n",
    "                else:\n",
    "                    #correct data\n",
    "                    db_article['error'] = ''\n",
    "                    db_article['content'] = content\n",
    "                    db_article['len_content'] = len(content)\n",
    "                    tb_article.update_one({'url': url}, {'$set': db_article})\n",
    "                    #print('Updated content: ' + url)\n",
    "        else:\n",
    "            break\n",
    "        index += 1\n",
    "        time.sleep(1)   #delay for 1 second\n",
    "        print('Finish page: ' + str(index) + ' ' + DOMAIN_URL + url)"
   ]
  },
  {
   "cell_type": "code",
   "execution_count": null,
   "metadata": {},
   "outputs": [],
   "source": []
  }
 ],
 "metadata": {
  "kernelspec": {
   "display_name": "3.9.10",
   "language": "python",
   "name": "python3"
  },
  "language_info": {
   "codemirror_mode": {
    "name": "ipython",
    "version": 3
   },
   "file_extension": ".py",
   "mimetype": "text/x-python",
   "name": "python",
   "nbconvert_exporter": "python",
   "pygments_lexer": "ipython3",
   "version": "3.9.10"
  }
 },
 "nbformat": 4,
 "nbformat_minor": 2
}
