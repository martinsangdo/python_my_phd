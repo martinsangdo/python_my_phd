{
 "cells": [
  {
   "cell_type": "code",
   "execution_count": null,
   "metadata": {},
   "outputs": [],
   "source": [
    "from typing import List\n"
   ]
  },
  {
   "cell_type": "code",
   "execution_count": null,
   "metadata": {},
   "outputs": [],
   "source": []
  },
  {
   "cell_type": "code",
   "execution_count": null,
   "metadata": {},
   "outputs": [],
   "source": [
    "\n",
    "#https://leetcode.com/problems/range-sum-query-immutable/submissions/\n",
    "class NumArray:\n",
    "\n",
    "    def __init__(self, nums: List[int]):\n",
    "        self.nums = nums\n",
    "\n",
    "    def sumRange(self, left: int, right: int) -> int:\n",
    "        total = 0\n",
    "        for x in range(left, right+1):\n",
    "            total = total + self.nums[x]\n",
    "        return total\n",
    "\n",
    "arr = NumArray([-2, 0, 3, -5, 2, -1])\n",
    "arr.sumRange(2, 5)\n",
    "#not the best solution if we call sumRange multiple times in the same array"
   ]
  }
 ],
 "metadata": {
  "kernelspec": {
   "display_name": "Python 3",
   "language": "python",
   "name": "python3"
  },
  "language_info": {
   "name": "python",
   "version": "3.11.9"
  }
 },
 "nbformat": 4,
 "nbformat_minor": 2
}
