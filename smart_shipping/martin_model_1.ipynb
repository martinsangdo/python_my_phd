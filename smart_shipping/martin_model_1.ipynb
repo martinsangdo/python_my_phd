{
 "cells": [
  {
   "cell_type": "code",
   "execution_count": 1,
   "metadata": {},
   "outputs": [],
   "source": [
    "import numpy as np\n",
    "import pandas as pd\n"
   ]
  },
  {
   "cell_type": "markdown",
   "metadata": {},
   "source": [
    "1. load file\n",
    "2. delete unused features\n",
    "3. clear noise data\n",
    "4. generate missing data"
   ]
  },
  {
   "cell_type": "code",
   "execution_count": 2,
   "metadata": {},
   "outputs": [],
   "source": [
    "import calendar\n",
    "import time\n",
    "\n",
    "def getCurrentTimestamp():\n",
    "    return int(calendar.timegm(time.gmtime()))"
   ]
  },
  {
   "cell_type": "code",
   "execution_count": 3,
   "metadata": {},
   "outputs": [
    {
     "name": "stdout",
     "output_type": "stream",
     "text": [
      "Begin reading CSV file, please wait ...\n",
      "Complete reading CSV file\n",
      "load time:0\n"
     ]
    },
    {
     "data": {
      "text/html": [
       "<div>\n",
       "<style scoped>\n",
       "    .dataframe tbody tr th:only-of-type {\n",
       "        vertical-align: middle;\n",
       "    }\n",
       "\n",
       "    .dataframe tbody tr th {\n",
       "        vertical-align: top;\n",
       "    }\n",
       "\n",
       "    .dataframe thead th {\n",
       "        text-align: right;\n",
       "    }\n",
       "</style>\n",
       "<table border=\"1\" class=\"dataframe\">\n",
       "  <thead>\n",
       "    <tr style=\"text-align: right;\">\n",
       "      <th></th>\n",
       "      <th>Unnamed: 0.1</th>\n",
       "      <th>Unnamed: 0</th>\n",
       "      <th>Submission ID</th>\n",
       "      <th>Transfers : Hour</th>\n",
       "      <th>Transfers : No. of Pax</th>\n",
       "      <th>Transfers : No. of Cargo Lifts/Drops</th>\n",
       "      <th>Lat</th>\n",
       "      <th>Lon</th>\n",
       "      <th>distance</th>\n",
       "      <th>Distance_abs</th>\n",
       "      <th>Total fuel used L</th>\n",
       "      <th>VHM0 (Wave Height)</th>\n",
       "      <th>Eastward Wind</th>\n",
       "      <th>Northward Wind</th>\n",
       "      <th>Eastward Current</th>\n",
       "      <th>Northward Current</th>\n",
       "    </tr>\n",
       "  </thead>\n",
       "  <tbody>\n",
       "    <tr>\n",
       "      <th>count</th>\n",
       "      <td>6947.000000</td>\n",
       "      <td>6947.000000</td>\n",
       "      <td>6.947000e+03</td>\n",
       "      <td>6946.000000</td>\n",
       "      <td>6947.000000</td>\n",
       "      <td>6935.000000</td>\n",
       "      <td>6947.000000</td>\n",
       "      <td>6947.000000</td>\n",
       "      <td>6947.000000</td>\n",
       "      <td>6946.000000</td>\n",
       "      <td>6947.000000</td>\n",
       "      <td>4645.000000</td>\n",
       "      <td>6947.000000</td>\n",
       "      <td>6947.000000</td>\n",
       "      <td>6947.000000</td>\n",
       "      <td>6947.000000</td>\n",
       "    </tr>\n",
       "    <tr>\n",
       "      <th>mean</th>\n",
       "      <td>10676.924860</td>\n",
       "      <td>10676.924860</td>\n",
       "      <td>8.136921e+07</td>\n",
       "      <td>11.549381</td>\n",
       "      <td>4.673096</td>\n",
       "      <td>2.715357</td>\n",
       "      <td>52.391160</td>\n",
       "      <td>2.388653</td>\n",
       "      <td>12.509459</td>\n",
       "      <td>13.123831</td>\n",
       "      <td>294.601593</td>\n",
       "      <td>0.745393</td>\n",
       "      <td>0.147942</td>\n",
       "      <td>1.056938</td>\n",
       "      <td>-0.022132</td>\n",
       "      <td>-0.158906</td>\n",
       "    </tr>\n",
       "    <tr>\n",
       "      <th>std</th>\n",
       "      <td>6998.508139</td>\n",
       "      <td>6998.508139</td>\n",
       "      <td>9.264214e+06</td>\n",
       "      <td>3.880162</td>\n",
       "      <td>2.869124</td>\n",
       "      <td>2.107649</td>\n",
       "      <td>0.314422</td>\n",
       "      <td>0.811950</td>\n",
       "      <td>12.987806</td>\n",
       "      <td>22.022896</td>\n",
       "      <td>301.937394</td>\n",
       "      <td>0.297165</td>\n",
       "      <td>4.120331</td>\n",
       "      <td>4.042826</td>\n",
       "      <td>0.170111</td>\n",
       "      <td>0.589130</td>\n",
       "    </tr>\n",
       "    <tr>\n",
       "      <th>min</th>\n",
       "      <td>0.000000</td>\n",
       "      <td>0.000000</td>\n",
       "      <td>6.526061e+07</td>\n",
       "      <td>2.000000</td>\n",
       "      <td>0.000000</td>\n",
       "      <td>0.000000</td>\n",
       "      <td>52.200183</td>\n",
       "      <td>1.736557</td>\n",
       "      <td>0.000000</td>\n",
       "      <td>0.000000</td>\n",
       "      <td>0.000000</td>\n",
       "      <td>0.078000</td>\n",
       "      <td>-11.990000</td>\n",
       "      <td>-11.770000</td>\n",
       "      <td>-0.730000</td>\n",
       "      <td>-1.185000</td>\n",
       "    </tr>\n",
       "    <tr>\n",
       "      <th>25%</th>\n",
       "      <td>4098.500000</td>\n",
       "      <td>4098.500000</td>\n",
       "      <td>7.321172e+07</td>\n",
       "      <td>8.000000</td>\n",
       "      <td>3.000000</td>\n",
       "      <td>1.000000</td>\n",
       "      <td>52.245617</td>\n",
       "      <td>1.736557</td>\n",
       "      <td>1.206612</td>\n",
       "      <td>0.000000</td>\n",
       "      <td>28.368669</td>\n",
       "      <td>0.522000</td>\n",
       "      <td>-3.230000</td>\n",
       "      <td>-1.730000</td>\n",
       "      <td>-0.160000</td>\n",
       "      <td>-0.692000</td>\n",
       "    </tr>\n",
       "    <tr>\n",
       "      <th>50%</th>\n",
       "      <td>10731.000000</td>\n",
       "      <td>10731.000000</td>\n",
       "      <td>8.095463e+07</td>\n",
       "      <td>11.000000</td>\n",
       "      <td>4.000000</td>\n",
       "      <td>3.000000</td>\n",
       "      <td>52.299750</td>\n",
       "      <td>2.481500</td>\n",
       "      <td>10.127432</td>\n",
       "      <td>2.682713</td>\n",
       "      <td>224.315409</td>\n",
       "      <td>0.776000</td>\n",
       "      <td>0.250000</td>\n",
       "      <td>0.980000</td>\n",
       "      <td>-0.029000</td>\n",
       "      <td>-0.355000</td>\n",
       "    </tr>\n",
       "    <tr>\n",
       "      <th>75%</th>\n",
       "      <td>17322.500000</td>\n",
       "      <td>17322.500000</td>\n",
       "      <td>8.990379e+07</td>\n",
       "      <td>15.000000</td>\n",
       "      <td>6.000000</td>\n",
       "      <td>4.000000</td>\n",
       "      <td>52.474199</td>\n",
       "      <td>2.527783</td>\n",
       "      <td>18.768389</td>\n",
       "      <td>30.184125</td>\n",
       "      <td>465.354928</td>\n",
       "      <td>0.946000</td>\n",
       "      <td>3.530000</td>\n",
       "      <td>4.225000</td>\n",
       "      <td>0.074000</td>\n",
       "      <td>0.395000</td>\n",
       "    </tr>\n",
       "    <tr>\n",
       "      <th>max</th>\n",
       "      <td>22972.000000</td>\n",
       "      <td>22972.000000</td>\n",
       "      <td>9.864308e+07</td>\n",
       "      <td>22.000000</td>\n",
       "      <td>21.000000</td>\n",
       "      <td>30.000000</td>\n",
       "      <td>54.074279</td>\n",
       "      <td>6.832500</td>\n",
       "      <td>139.729180</td>\n",
       "      <td>193.153174</td>\n",
       "      <td>3133.067118</td>\n",
       "      <td>1.874000</td>\n",
       "      <td>11.340000</td>\n",
       "      <td>11.500000</td>\n",
       "      <td>0.634000</td>\n",
       "      <td>1.204000</td>\n",
       "    </tr>\n",
       "  </tbody>\n",
       "</table>\n",
       "</div>"
      ],
      "text/plain": [
       "       Unnamed: 0.1    Unnamed: 0  Submission ID  Transfers : Hour  \\\n",
       "count   6947.000000   6947.000000   6.947000e+03       6946.000000   \n",
       "mean   10676.924860  10676.924860   8.136921e+07         11.549381   \n",
       "std     6998.508139   6998.508139   9.264214e+06          3.880162   \n",
       "min        0.000000      0.000000   6.526061e+07          2.000000   \n",
       "25%     4098.500000   4098.500000   7.321172e+07          8.000000   \n",
       "50%    10731.000000  10731.000000   8.095463e+07         11.000000   \n",
       "75%    17322.500000  17322.500000   8.990379e+07         15.000000   \n",
       "max    22972.000000  22972.000000   9.864308e+07         22.000000   \n",
       "\n",
       "       Transfers : No. of Pax  Transfers : No. of Cargo Lifts/Drops  \\\n",
       "count             6947.000000                           6935.000000   \n",
       "mean                 4.673096                              2.715357   \n",
       "std                  2.869124                              2.107649   \n",
       "min                  0.000000                              0.000000   \n",
       "25%                  3.000000                              1.000000   \n",
       "50%                  4.000000                              3.000000   \n",
       "75%                  6.000000                              4.000000   \n",
       "max                 21.000000                             30.000000   \n",
       "\n",
       "               Lat          Lon     distance  Distance_abs  Total fuel used L  \\\n",
       "count  6947.000000  6947.000000  6947.000000   6946.000000        6947.000000   \n",
       "mean     52.391160     2.388653    12.509459     13.123831         294.601593   \n",
       "std       0.314422     0.811950    12.987806     22.022896         301.937394   \n",
       "min      52.200183     1.736557     0.000000      0.000000           0.000000   \n",
       "25%      52.245617     1.736557     1.206612      0.000000          28.368669   \n",
       "50%      52.299750     2.481500    10.127432      2.682713         224.315409   \n",
       "75%      52.474199     2.527783    18.768389     30.184125         465.354928   \n",
       "max      54.074279     6.832500   139.729180    193.153174        3133.067118   \n",
       "\n",
       "       VHM0 (Wave Height)  Eastward Wind  Northward Wind  Eastward Current  \\\n",
       "count         4645.000000    6947.000000     6947.000000       6947.000000   \n",
       "mean             0.745393       0.147942        1.056938         -0.022132   \n",
       "std              0.297165       4.120331        4.042826          0.170111   \n",
       "min              0.078000     -11.990000      -11.770000         -0.730000   \n",
       "25%              0.522000      -3.230000       -1.730000         -0.160000   \n",
       "50%              0.776000       0.250000        0.980000         -0.029000   \n",
       "75%              0.946000       3.530000        4.225000          0.074000   \n",
       "max              1.874000      11.340000       11.500000          0.634000   \n",
       "\n",
       "       Northward Current  \n",
       "count        6947.000000  \n",
       "mean           -0.158906  \n",
       "std             0.589130  \n",
       "min            -1.185000  \n",
       "25%            -0.692000  \n",
       "50%            -0.355000  \n",
       "75%             0.395000  \n",
       "max             1.204000  "
      ]
     },
     "execution_count": 3,
     "metadata": {},
     "output_type": "execute_result"
    }
   ],
   "source": [
    "start_time = getCurrentTimestamp()\n",
    "path = '../data/df_final_red_sum_abs.csv'\n",
    "print('Begin reading CSV file, please wait ...')\n",
    "df = pd.read_csv(path, low_memory=False)\n",
    "print('Complete reading CSV file')\n",
    "total_time = getCurrentTimestamp() - start_time\n",
    "print('load time:' + str(total_time))\n",
    "#df -> 2925493 rows × 142 columns\n",
    "df.describe()"
   ]
  },
  {
   "cell_type": "code",
   "execution_count": 4,
   "metadata": {},
   "outputs": [
    {
     "name": "stdout",
     "output_type": "stream",
     "text": [
      "<class 'pandas.core.frame.DataFrame'>\n",
      "RangeIndex: 6947 entries, 0 to 6946\n",
      "Data columns (total 24 columns):\n",
      " #   Column                                Non-Null Count  Dtype  \n",
      "---  ------                                --------------  -----  \n",
      " 0   Unnamed: 0.1                          6947 non-null   int64  \n",
      " 1   Unnamed: 0                            6947 non-null   int64  \n",
      " 2   Submission ID                         6947 non-null   int64  \n",
      " 3   Submission ID generated by device     6947 non-null   object \n",
      " 4   Transfers Date                        6947 non-null   object \n",
      " 5   Vessel                                6947 non-null   object \n",
      " 6   Transfers : Time Question             6947 non-null   object \n",
      " 7   Transfers : Hour                      6946 non-null   float64\n",
      " 8   Transfers : To/From where?            6947 non-null   object \n",
      " 9   Transfers : Turbine                   6947 non-null   object \n",
      " 10  Transfers : No. of Pax                6947 non-null   int64  \n",
      " 11  Transfers : Transfer Up/Down          6947 non-null   object \n",
      " 12  Transfers : No. of Cargo Lifts/Drops  6935 non-null   float64\n",
      " 13  Lat                                   6947 non-null   float64\n",
      " 14  Lon                                   6947 non-null   float64\n",
      " 15  datetime                              6947 non-null   object \n",
      " 16  distance                              6947 non-null   float64\n",
      " 17  Distance_abs                          6946 non-null   float64\n",
      " 18  Total fuel used L                     6947 non-null   float64\n",
      " 19  VHM0 (Wave Height)                    4645 non-null   float64\n",
      " 20  Eastward Wind                         6947 non-null   float64\n",
      " 21  Northward Wind                        6947 non-null   float64\n",
      " 22  Eastward Current                      6947 non-null   float64\n",
      " 23  Northward Current                     6947 non-null   float64\n",
      "dtypes: float64(12), int64(4), object(8)\n",
      "memory usage: 1.3+ MB\n"
     ]
    }
   ],
   "source": [
    "df.info()"
   ]
  },
  {
   "cell_type": "markdown",
   "metadata": {},
   "source": [
    "C. Clean data\n",
    "1. delete unused columns\n",
    "2. delete duplicate rows\n",
    "3. convert values to numbers\n",
    "4. fill empty or 0 or null by means\n",
    "5. clean noise values"
   ]
  },
  {
   "cell_type": "code",
   "execution_count": 5,
   "metadata": {},
   "outputs": [],
   "source": [
    "#C1 delete unused columns\n",
    "unused_column_names = ['Unnamed: 0.1', 'Unnamed: 0', 'Submission ID', 'Submission ID generated by device', 'Transfers Date', 'Transfers : Time Question', 'Transfers : Hour', 'Transfers : To/From where?']\n",
    "df = df.drop(columns=unused_column_names)\n"
   ]
  },
  {
   "cell_type": "code",
   "execution_count": 6,
   "metadata": {},
   "outputs": [
    {
     "data": {
      "text/plain": [
       "Index(['Vessel', 'Transfers : Turbine', 'Transfers : No. of Pax',\n",
       "       'Transfers : Transfer Up/Down', 'Transfers : No. of Cargo Lifts/Drops',\n",
       "       'Lat', 'Lon', 'datetime', 'distance', 'Distance_abs',\n",
       "       'Total fuel used L', 'VHM0 (Wave Height)', 'Eastward Wind',\n",
       "       'Northward Wind', 'Eastward Current', 'Northward Current'],\n",
       "      dtype='object')"
      ]
     },
     "execution_count": 6,
     "metadata": {},
     "output_type": "execute_result"
    }
   ],
   "source": [
    "#C2\n",
    "df.drop_duplicates()\n",
    "df.columns"
   ]
  },
  {
   "cell_type": "code",
   "execution_count": 7,
   "metadata": {},
   "outputs": [
    {
     "name": "stdout",
     "output_type": "stream",
     "text": [
      "<class 'pandas.core.series.Series'>\n",
      "RangeIndex: 6947 entries, 0 to 6946\n",
      "Series name: Vessel\n",
      "Non-Null Count  Dtype \n",
      "--------------  ----- \n",
      "6947 non-null   object\n",
      "dtypes: object(1)\n",
      "memory usage: 54.4+ KB\n"
     ]
    }
   ],
   "source": [
    "df['Vessel'].info()"
   ]
  },
  {
   "cell_type": "code",
   "execution_count": 19,
   "metadata": {},
   "outputs": [
    {
     "name": "stdout",
     "output_type": "stream",
     "text": [
      "Invalid time format. Please use 'dd/mm/yyyy HH:MM:SS'\n",
      "Timestamp for 18/2/2024 06:55:00: None\n"
     ]
    }
   ],
   "source": [
    "from datetime import datetime\n",
    "\n",
    "#for ex: 06/12/2021  06:55:00\n",
    "def convert_date_2_timestamp(time_str):\n",
    "    #print(time_str)\n",
    "    try:\n",
    "        dt = datetime.strptime(time_str, \"%d/%m/%Y %H:%M\")\n",
    "        return dt.timestamp()\n",
    "    except ValueError:\n",
    "        print(\"Invalid time format. Please use 'dd/mm/yyyy HH:MM:SS'\")\n",
    "    return None\n",
    "\n",
    "time_str = \"18/2/2024 06:55:00\"\n",
    "timestamp = convert_date_2_timestamp(time_str)\n",
    "print(f\"Timestamp for {time_str}: {timestamp}\") "
   ]
  },
  {
   "cell_type": "code",
   "execution_count": 20,
   "metadata": {},
   "outputs": [],
   "source": [
    "#convert date time to timestamp\n",
    "\n",
    "df['datetime_sec'] = df['datetime'].apply(convert_date_2_timestamp)\n",
    "\n"
   ]
  },
  {
   "cell_type": "code",
   "execution_count": 23,
   "metadata": {},
   "outputs": [
    {
     "data": {
      "text/plain": [
       "1638788400.0"
      ]
     },
     "execution_count": 23,
     "metadata": {},
     "output_type": "execute_result"
    }
   ],
   "source": [
    "df['datetime_sec'][6]"
   ]
  },
  {
   "cell_type": "code",
   "execution_count": 8,
   "metadata": {},
   "outputs": [],
   "source": [
    "#c3 convert string to numbers\n",
    "#"
   ]
  },
  {
   "cell_type": "code",
   "execution_count": 9,
   "metadata": {},
   "outputs": [],
   "source": [
    "#insert new columns: from lat, from lon, from time\n"
   ]
  }
 ],
 "metadata": {
  "kernelspec": {
   "display_name": "Python 3",
   "language": "python",
   "name": "python3"
  },
  "language_info": {
   "codemirror_mode": {
    "name": "ipython",
    "version": 3
   },
   "file_extension": ".py",
   "mimetype": "text/x-python",
   "name": "python",
   "nbconvert_exporter": "python",
   "pygments_lexer": "ipython3",
   "version": "3.11.9"
  }
 },
 "nbformat": 4,
 "nbformat_minor": 2
}
