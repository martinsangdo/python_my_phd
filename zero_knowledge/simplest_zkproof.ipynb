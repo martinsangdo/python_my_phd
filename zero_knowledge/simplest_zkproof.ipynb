{
 "cells": [
  {
   "cell_type": "markdown",
   "metadata": {},
   "source": [
    "https://www.linkedin.com/pulse/zero-knowledge-proof-developers-guide-example-gourav-patidar-3od3f\n",
    "Very simple Zero knowledge\n",
    "Let’s take a practical example where the prover proves they are over 18 years old without revealing their actual age. We’ll use cryptographic hash functions (like SHA-256) for this example to simulate a simple ZKP system."
   ]
  },
  {
   "cell_type": "code",
   "execution_count": 1,
   "metadata": {},
   "outputs": [
    {
     "name": "stdout",
     "output_type": "stream",
     "text": [
      "The prover successfully proved they are over 18!\n"
     ]
    }
   ],
   "source": [
    "import hashlib\n",
    "\n",
    "class ZeroKnowledgeAgeProver:\n",
    "    def __init__(self, age):\n",
    "        self.age = age\n",
    "    \n",
    "    def commit_age(self):\n",
    "        # Prover commits to their age using a cryptographic hash function (SHA-256)\n",
    "        random_secret = str(hashlib.sha256(str(self.age).encode()).hexdigest())\n",
    "        commitment = hashlib.sha256((str(self.age) + random_secret).encode()).hexdigest()\n",
    "        return commitment, random_secret\n",
    "\n",
    "    def prove_age(self, random_secret, threshold_age):\n",
    "        if self.age <= threshold_age:\n",
    "            raise ValueError(\"You are not old enough to pass the proof.\")\n",
    "        # Provide proof that the age is greater than the threshold\n",
    "        return hashlib.sha256((str(self.age) + random_secret).encode()).hexdigest()\n",
    "\n",
    "class ZeroKnowledgeAgeVerifier:\n",
    "    def verify_age_proof(self, commitment, proof):\n",
    "        # Verifier checks if the proof matches the original commitment\n",
    "        return commitment == proof\n",
    "\n",
    "\n",
    "# Example usage\n",
    "prover_age = 25  # Prover's actual age\n",
    "threshold_age = 18  # Threshold age for verification (e.g., 18)\n",
    "\n",
    "# Initialize prover and verifier\n",
    "prover = ZeroKnowledgeAgeProver(prover_age)\n",
    "verifier = ZeroKnowledgeAgeVerifier()\n",
    "\n",
    "# Prover commits to their age\n",
    "commitment, random_secret = prover.commit_age()\n",
    "\n",
    "# Prover generates a proof\n",
    "proof = prover.prove_age(random_secret, threshold_age)\n",
    "\n",
    "# Verifier checks the proof against the commitment\n",
    "if verifier.verify_age_proof(commitment, proof):\n",
    "    print(\"The prover successfully proved they are over 18!\")\n",
    "else:\n",
    "    print(\"The proof failed. The prover might not be over 18.\") "
   ]
  }
 ],
 "metadata": {
  "kernelspec": {
   "display_name": "Python 3",
   "language": "python",
   "name": "python3"
  },
  "language_info": {
   "codemirror_mode": {
    "name": "ipython",
    "version": 3
   },
   "file_extension": ".py",
   "mimetype": "text/x-python",
   "name": "python",
   "nbconvert_exporter": "python",
   "pygments_lexer": "ipython3",
   "version": "3.11.9"
  }
 },
 "nbformat": 4,
 "nbformat_minor": 2
}
